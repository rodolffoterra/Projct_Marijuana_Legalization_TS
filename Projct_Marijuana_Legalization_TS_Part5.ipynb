{
 "cells": [
  {
   "cell_type": "code",
   "execution_count": 1,
   "metadata": {},
   "outputs": [
    {
     "name": "stdout",
     "output_type": "stream",
     "text": [
      "Versão da Linguagem Python Usada neste projeto: 3.8.5\n"
     ]
    }
   ],
   "source": [
    "#Python Language Version \n",
    "\n",
    "from platform import python_version\n",
    "print('Versão da Linguagem Python Usada neste projeto:', python_version())"
   ]
  },
  {
   "cell_type": "markdown",
   "metadata": {},
   "source": [
    "# Análise Estatística e Modelagem Preditiva de Séries Temporais - Em Python\n",
    "\n",
    "### Projeto - Qual o Efeito da Legalização da Maconha na Taxa de Criminalidade ao Longo do Tempo?"
   ]
  },
  {
   "cell_type": "markdown",
   "metadata": {},
   "source": [
    "![Rodolfo Terra](https://raw.githubusercontent.com/rodolffoterra/Projct_Marijuana_Legalization_TS/main/imagnes/layout5.png)"
   ]
  },
  {
   "cell_type": "markdown",
   "metadata": {},
   "source": [
    "### Definição do Problema\n",
    "\n",
    "Em 2016, os eleitores da Califórnia nos EUA aprovaram a Proposição 64, que legalizou o uso recreativo da maconha no estado. Neste link você encontra os detalhes sobre a aprovação da Proposição 64:\n",
    "\n",
    "<a href=\"https://ballotpedia.org/California_Proposition_64,_Marijuana_Legalization_(2016)\">California Proposition 64, Marijuana Legalization (2016)</a>\n",
    "\n",
    "Os opositores à medida apresentaram cinco principais objeções à mudança no Guia Oficial de Informações do Eleitor do estado. Eles argumentaram que a legalização:\n",
    "\n",
    "- (1) Dobraria o número de mortes nas rodovias.\n",
    "- (2) Permitiria o cultivo de maconha perto de escolas e parques.\n",
    "- (3) Aumentaria a atividade do mercado negro e do cartel.\n",
    "- (4) Prejudicaria as comunidades pobres com problemas de dependência por meio do influxo de novos pontos de vendas de maconha.\n",
    "- (5) Aumentaria a criminalidade ao longo do tempo, especialmente nas áreas próximas aos pontos de venda de maconha legalizada (cada ponto de venda de maconha legalizada é chamado de marijuana dispensary). \n",
    "\n",
    "Vamos realizar uma análise de dados com base em séries temporais e análises geoespaciais, além de outras técnicas exploratórias mais gerais, para examinar se essas previsões se tornaram realidade em Los Angeles desde que a legalização entrou em vigor. Nosso foco principal será nos dados disponíveis sobre detenções por crimes relacionados à maconha e na taxa geral de crimes nas proximidades de dispensários. Vamos focar principalmente nos itens 2, 4 e 5 acima.\n",
    "\n",
    "Os dados usados neste projeto estão disponíveis publicamente e são oferecidos pelo portal de dados abertos do governo de Los Angeles.\n",
    "\n",
    "Você é favor ou contra a legalização da Maconha? Acompanhe o projeto passo a passo, leia atentamente cada comentário e então emita sua opinião com base em dados.\n",
    "\n",
    "Começaremos agora a Parte 5. Usaremos os 4 arquivos csv gerados na Parte 2:\n",
    "\n",
    "- df_crimes.csv\n",
    "- df_escolas.csv\n",
    "- df_lojas.csv\n",
    "- df_prisoes_parte2.csv"
   ]
  },
  {
   "cell_type": "markdown",
   "metadata": {},
   "source": [
    "# Sumário:\n",
    "\n",
    "* <p><a href=\"#C2\">Modelage Preditiva</a></p>\n",
    "\n",
    "- Análise de Séries Temporais\n",
    "\n",
    "- Conclusões Finais"
   ]
  },
  {
   "cell_type": "markdown",
   "metadata": {},
   "source": [
    "### Carregando os Pacotes Usados Neste Jupyter Notebook"
   ]
  },
  {
   "cell_type": "code",
   "execution_count": 2,
   "metadata": {},
   "outputs": [],
   "source": [
    "# The new versions of Pandas and Matplotlib bring several warning messages to the developer.; Let's disable this\n",
    "import sys\n",
    "import warnings\n",
    "import matplotlib.cbook\n",
    "if not sys.warnoptions:\n",
    "    warnings.simplefilter(\"ignore\")\n",
    "warnings.simplefilter(action='ignore', category=FutureWarning)\n",
    "warnings.filterwarnings(\"ignore\", category=FutureWarning)\n",
    "warnings.filterwarnings(\"ignore\", category=matplotlib.cbook.mplDeprecation)\n",
    "\n",
    "# Imports for data Manipulation and previw\n",
    "import math\n",
    "import numpy as np\n",
    "import pandas as pd\n",
    "import matplotlib as m\n",
    "import matplotlib.pyplot as plt\n",
    "from scipy import stats\n",
    "\n",
    "# Import for Machine Learning\n",
    "import sklearn\n",
    "from sklearn.linear_model import LogisticRegression\n",
    "from sklearn.model_selection import train_test_split, GridSearchCV\n",
    "from sklearn.feature_extraction.text import CountVectorizer\n",
    "from sklearn.pipeline import Pipeline\n",
    "from sklearn.metrics import confusion_matrix\n",
    "from sklearn.metrics import roc_auc_score\n",
    "from sklearn.preprocessing import StandardScaler\n",
    "\n",
    "# Imports for Times Series Analysis\n",
    "import pickle\n",
    "import calendar\n",
    "import statsmodels\n",
    "from statsmodels.tsa.arima_model import ARIMA, ARMA\n",
    "from sklearn.metrics import mean_squared_error\n",
    "from statsmodels.tsa.stattools import adfuller \n",
    "from statsmodels.tsa.stattools import acf, pacf\n",
    "\n",
    "# Import for bformatting graphics\n",
    "m.rcParams['axes.labelsize'] = 14\n",
    "m.rcParams['xtick.labelsize'] = 12\n",
    "m.rcParams['ytick.labelsize'] = 12\n",
    "from matplotlib.pylab import rcParams \n",
    "rcParams['figure.figsize'] = 15,7\n",
    "plt.style.use('fivethirtyeight')\n",
    "%matplotlib inline"
   ]
  },
  {
   "cell_type": "code",
   "execution_count": 3,
   "metadata": {},
   "outputs": [
    {
     "name": "stdout",
     "output_type": "stream",
     "text": [
      "Author: Rodolfo Terra - Ciência de Dados\n",
      "\n",
      "matplotlib : 3.3.2\n",
      "numpy      : 1.19.2\n",
      "sklearn    : 0.23.2\n",
      "statsmodels: 0.12.0\n",
      "sys        : 3.8.5 (default, Sep  3 2020, 21:29:08) [MSC v.1916 64 bit (AMD64)]\n",
      "pandas     : 1.1.3\n",
      "scipy      : 1.5.2\n",
      "\n"
     ]
    }
   ],
   "source": [
    "# Versions of packages used in this jupyter notebook\n",
    "%reload_ext watermark\n",
    "%watermark -a \"Rodolfo Terra - Ciência de Dados\" --iversions"
   ]
  },
  {
   "cell_type": "markdown",
   "metadata": {},
   "source": [
    "<a name=\"C2\"></a><h1>Modelagem Preditiva</h1>\n",
    "\n",
    "Vamos iniciar nosso trabalho criando um modelo de Machine Learning para classificação e compreendendo quais são as variáveis mais relevantes para prever a ocorrência de prisões."
   ]
  },
  {
   "cell_type": "code",
   "execution_count": 4,
   "metadata": {},
   "outputs": [],
   "source": [
    "# # Loading prison data\n",
    "df_prisoes = pd.read_csv('dados/df_prisoes_parte2.csv')"
   ]
  },
  {
   "cell_type": "code",
   "execution_count": 5,
   "metadata": {},
   "outputs": [
    {
     "data": {
      "text/plain": [
       "(6226, 14)"
      ]
     },
     "execution_count": 5,
     "metadata": {},
     "output_type": "execute_result"
    }
   ],
   "source": [
    "# Shape\n",
    "df_prisoes.shape"
   ]
  },
  {
   "cell_type": "code",
   "execution_count": 6,
   "metadata": {},
   "outputs": [
    {
     "data": {
      "text/html": [
       "<div>\n",
       "<style scoped>\n",
       "    .dataframe tbody tr th:only-of-type {\n",
       "        vertical-align: middle;\n",
       "    }\n",
       "\n",
       "    .dataframe tbody tr th {\n",
       "        vertical-align: top;\n",
       "    }\n",
       "\n",
       "    .dataframe thead th {\n",
       "        text-align: right;\n",
       "    }\n",
       "</style>\n",
       "<table border=\"1\" class=\"dataframe\">\n",
       "  <thead>\n",
       "    <tr style=\"text-align: right;\">\n",
       "      <th></th>\n",
       "      <th>Arrest Date</th>\n",
       "      <th>Time</th>\n",
       "      <th>Area Name</th>\n",
       "      <th>Age</th>\n",
       "      <th>Sex Code</th>\n",
       "      <th>Descent Code</th>\n",
       "      <th>Arrest Type Code</th>\n",
       "      <th>Charge Description</th>\n",
       "      <th>latitude</th>\n",
       "      <th>longitude</th>\n",
       "      <th>loja_0.5_milha</th>\n",
       "      <th>loja_1_milha</th>\n",
       "      <th>escola_0.5_milha</th>\n",
       "      <th>escola_1_milha</th>\n",
       "    </tr>\n",
       "  </thead>\n",
       "  <tbody>\n",
       "    <tr>\n",
       "      <th>0</th>\n",
       "      <td>2019-03-09</td>\n",
       "      <td>2015.0</td>\n",
       "      <td>Hollywood</td>\n",
       "      <td>29</td>\n",
       "      <td>M</td>\n",
       "      <td>O</td>\n",
       "      <td>F</td>\n",
       "      <td>possession marijuana for sale</td>\n",
       "      <td>34.1016</td>\n",
       "      <td>-118.3350</td>\n",
       "      <td>8</td>\n",
       "      <td>12</td>\n",
       "      <td>2</td>\n",
       "      <td>5</td>\n",
       "    </tr>\n",
       "    <tr>\n",
       "      <th>1</th>\n",
       "      <td>2019-03-09</td>\n",
       "      <td>2015.0</td>\n",
       "      <td>Hollywood</td>\n",
       "      <td>25</td>\n",
       "      <td>M</td>\n",
       "      <td>B</td>\n",
       "      <td>F</td>\n",
       "      <td>possession marijuana for sale</td>\n",
       "      <td>34.1016</td>\n",
       "      <td>-118.3350</td>\n",
       "      <td>8</td>\n",
       "      <td>12</td>\n",
       "      <td>2</td>\n",
       "      <td>5</td>\n",
       "    </tr>\n",
       "    <tr>\n",
       "      <th>2</th>\n",
       "      <td>2019-04-21</td>\n",
       "      <td>2115.0</td>\n",
       "      <td>Wilshire</td>\n",
       "      <td>42</td>\n",
       "      <td>M</td>\n",
       "      <td>B</td>\n",
       "      <td>F</td>\n",
       "      <td>poss/sale marij ovr 21 employ per 20/belw</td>\n",
       "      <td>34.0838</td>\n",
       "      <td>-118.3614</td>\n",
       "      <td>3</td>\n",
       "      <td>13</td>\n",
       "      <td>4</td>\n",
       "      <td>8</td>\n",
       "    </tr>\n",
       "    <tr>\n",
       "      <th>3</th>\n",
       "      <td>2019-05-01</td>\n",
       "      <td>1045.0</td>\n",
       "      <td>Pacific</td>\n",
       "      <td>26</td>\n",
       "      <td>M</td>\n",
       "      <td>B</td>\n",
       "      <td>F</td>\n",
       "      <td>sale/trans &gt;28.5g marijuana or &gt;4g</td>\n",
       "      <td>33.9428</td>\n",
       "      <td>-118.4054</td>\n",
       "      <td>0</td>\n",
       "      <td>0</td>\n",
       "      <td>0</td>\n",
       "      <td>0</td>\n",
       "    </tr>\n",
       "    <tr>\n",
       "      <th>4</th>\n",
       "      <td>2019-05-01</td>\n",
       "      <td>5.0</td>\n",
       "      <td>N Hollywood</td>\n",
       "      <td>27</td>\n",
       "      <td>M</td>\n",
       "      <td>B</td>\n",
       "      <td>F</td>\n",
       "      <td>sale/trans &gt;28.5g marijuana or &gt;4g</td>\n",
       "      <td>34.1667</td>\n",
       "      <td>-118.3965</td>\n",
       "      <td>0</td>\n",
       "      <td>1</td>\n",
       "      <td>3</td>\n",
       "      <td>4</td>\n",
       "    </tr>\n",
       "  </tbody>\n",
       "</table>\n",
       "</div>"
      ],
      "text/plain": [
       "  Arrest Date    Time    Area Name  Age Sex Code Descent Code  \\\n",
       "0  2019-03-09  2015.0    Hollywood   29        M            O   \n",
       "1  2019-03-09  2015.0    Hollywood   25        M            B   \n",
       "2  2019-04-21  2115.0     Wilshire   42        M            B   \n",
       "3  2019-05-01  1045.0      Pacific   26        M            B   \n",
       "4  2019-05-01     5.0  N Hollywood   27        M            B   \n",
       "\n",
       "  Arrest Type Code                         Charge Description  latitude  \\\n",
       "0                F              possession marijuana for sale   34.1016   \n",
       "1                F              possession marijuana for sale   34.1016   \n",
       "2                F  poss/sale marij ovr 21 employ per 20/belw   34.0838   \n",
       "3                F         sale/trans >28.5g marijuana or >4g   33.9428   \n",
       "4                F         sale/trans >28.5g marijuana or >4g   34.1667   \n",
       "\n",
       "   longitude  loja_0.5_milha  loja_1_milha  escola_0.5_milha  escola_1_milha  \n",
       "0  -118.3350               8            12                 2               5  \n",
       "1  -118.3350               8            12                 2               5  \n",
       "2  -118.3614               3            13                 4               8  \n",
       "3  -118.4054               0             0                 0               0  \n",
       "4  -118.3965               0             1                 3               4  "
      ]
     },
     "execution_count": 6,
     "metadata": {},
     "output_type": "execute_result"
    }
   ],
   "source": [
    "# We preview a sample of data\n",
    "df_prisoes.head()"
   ]
  },
  {
   "cell_type": "code",
   "execution_count": 7,
   "metadata": {},
   "outputs": [],
   "source": [
    "# We have cerated a list of reasons for arrests\n",
    "charge_description_list = list(df_prisoes['Charge Description'].unique())"
   ]
  },
  {
   "cell_type": "code",
   "execution_count": 8,
   "metadata": {},
   "outputs": [],
   "source": [
    "# We sort the list\n",
    "charge_description_list.sort()"
   ]
  },
  {
   "cell_type": "code",
   "execution_count": 9,
   "metadata": {},
   "outputs": [
    {
     "data": {
      "text/plain": [
       "['attempt - sell/furnish/etc marijuana',\n",
       " 'cultivate >6 marij plants viol envrnt law',\n",
       " 'cultivating <6 marijuana plants',\n",
       " 'furnishing marijuana to minor over 14 yrs',\n",
       " 'give/transport/etc < 28.5 grams marijuana',\n",
       " 'induce/etc minor to use/sell marijuana',\n",
       " 'minor poss 28.5+ grams marijuana/school',\n",
       " 'minor poss < 28.5 grams marijuana/school',\n",
       " 'poss for sale of marijuana to a minor',\n",
       " 'poss marijuana or concentrated cannabis',\n",
       " 'poss of more than 28.5 grams of marijuana',\n",
       " 'poss open cont/packg marij drivr/passnger',\n",
       " 'poss/sale marij ovr 21 employ per 20/belw',\n",
       " 'poss/smoke/ingest marij school/daycare/yc',\n",
       " 'possess 28.5 grams or less of marijuana',\n",
       " 'possess 28.5 grams or less of marijuana**',\n",
       " 'possess marijuana for sale',\n",
       " 'possess marijuana for sale under age 18',\n",
       " 'possess of marijuana while driving veh',\n",
       " 'possession marijuana for sale',\n",
       " 'possession of marijuana in school',\n",
       " 'sale/offer to sell/transport marijuana',\n",
       " 'sale/trans >28.5g marijuana or >4g',\n",
       " 'sale/transport marijuana to a minor',\n",
       " 'sale/transport marijuana w/priors',\n",
       " 'sell/furnish/etc marij/hash over 1 oz',\n",
       " 'smoke marij loc where smoke tobacco proh',\n",
       " 'smoke/ingest marijuana in public place',\n",
       " 'transport/etc marijuana',\n",
       " 'transport/sell/furnish/etc marijuana',\n",
       " 'unlawfully plant/cultivate/etc marijuana',\n",
       " 'use minor under 14 trans/sell marijuana']"
      ]
     },
     "execution_count": 9,
     "metadata": {},
     "output_type": "execute_result"
    }
   ],
   "source": [
    "# Data\n",
    "charge_description_list"
   ]
  },
  {
   "cell_type": "markdown",
   "metadata": {},
   "source": [
    "Agora criaremos nossa variável target (venda ou não de maconha)."
   ]
  },
  {
   "cell_type": "code",
   "execution_count": 10,
   "metadata": {},
   "outputs": [],
   "source": [
    "# We apply map function to identify marijuana sale\n",
    "target = df_prisoes['Charge Description'].map(lambda x: 'sell' if 'sale' in x else x)"
   ]
  },
  {
   "cell_type": "code",
   "execution_count": 11,
   "metadata": {},
   "outputs": [],
   "source": [
    "# So we indentified whether or not marijuana was sold\n",
    "target = target.map(lambda x: 'sell' if 'sell' in x else x)\n",
    "target = target.map(lambda x: 'not sell' if 'sell' not in x else x)"
   ]
  },
  {
   "cell_type": "code",
   "execution_count": 12,
   "metadata": {},
   "outputs": [
    {
     "data": {
      "text/plain": [
       "sell        0.616929\n",
       "not sell    0.383071\n",
       "Name: Charge Description, dtype: float64"
      ]
     },
     "execution_count": 12,
     "metadata": {},
     "output_type": "execute_result"
    }
   ],
   "source": [
    "# We count the records for each class and show them as a proportion\n",
    "target.value_counts(normalize = True)"
   ]
  },
  {
   "cell_type": "markdown",
   "metadata": {},
   "source": [
    "Como as classes são um pouco desequilibradas, vamos estratificá-las para que haja a mesma proporção de observações de 'venda' e 'não venda' nos conjuntos de dados de treino e teste, mais a frente."
   ]
  },
  {
   "cell_type": "code",
   "execution_count": 13,
   "metadata": {},
   "outputs": [],
   "source": [
    "# Include the variablçe in the dataframe\n",
    "df_prisoes['target'] = target"
   ]
  },
  {
   "cell_type": "code",
   "execution_count": 14,
   "metadata": {},
   "outputs": [],
   "source": [
    "# We do the encoding replacing the classes with valçues 0 or 1\n",
    "df_prisoes['target'] = df_prisoes['target'].map(lambda x: 1 if x == 'sell' else 0)"
   ]
  },
  {
   "cell_type": "code",
   "execution_count": 15,
   "metadata": {},
   "outputs": [
    {
     "data": {
      "text/html": [
       "<div>\n",
       "<style scoped>\n",
       "    .dataframe tbody tr th:only-of-type {\n",
       "        vertical-align: middle;\n",
       "    }\n",
       "\n",
       "    .dataframe tbody tr th {\n",
       "        vertical-align: top;\n",
       "    }\n",
       "\n",
       "    .dataframe thead th {\n",
       "        text-align: right;\n",
       "    }\n",
       "</style>\n",
       "<table border=\"1\" class=\"dataframe\">\n",
       "  <thead>\n",
       "    <tr style=\"text-align: right;\">\n",
       "      <th></th>\n",
       "      <th>Arrest Date</th>\n",
       "      <th>Time</th>\n",
       "      <th>Area Name</th>\n",
       "      <th>Age</th>\n",
       "      <th>Sex Code</th>\n",
       "      <th>Descent Code</th>\n",
       "      <th>Arrest Type Code</th>\n",
       "      <th>Charge Description</th>\n",
       "      <th>latitude</th>\n",
       "      <th>longitude</th>\n",
       "      <th>loja_0.5_milha</th>\n",
       "      <th>loja_1_milha</th>\n",
       "      <th>escola_0.5_milha</th>\n",
       "      <th>escola_1_milha</th>\n",
       "      <th>target</th>\n",
       "    </tr>\n",
       "  </thead>\n",
       "  <tbody>\n",
       "    <tr>\n",
       "      <th>0</th>\n",
       "      <td>2019-03-09</td>\n",
       "      <td>2015.0</td>\n",
       "      <td>Hollywood</td>\n",
       "      <td>29</td>\n",
       "      <td>M</td>\n",
       "      <td>O</td>\n",
       "      <td>F</td>\n",
       "      <td>possession marijuana for sale</td>\n",
       "      <td>34.1016</td>\n",
       "      <td>-118.3350</td>\n",
       "      <td>8</td>\n",
       "      <td>12</td>\n",
       "      <td>2</td>\n",
       "      <td>5</td>\n",
       "      <td>1</td>\n",
       "    </tr>\n",
       "    <tr>\n",
       "      <th>1</th>\n",
       "      <td>2019-03-09</td>\n",
       "      <td>2015.0</td>\n",
       "      <td>Hollywood</td>\n",
       "      <td>25</td>\n",
       "      <td>M</td>\n",
       "      <td>B</td>\n",
       "      <td>F</td>\n",
       "      <td>possession marijuana for sale</td>\n",
       "      <td>34.1016</td>\n",
       "      <td>-118.3350</td>\n",
       "      <td>8</td>\n",
       "      <td>12</td>\n",
       "      <td>2</td>\n",
       "      <td>5</td>\n",
       "      <td>1</td>\n",
       "    </tr>\n",
       "    <tr>\n",
       "      <th>2</th>\n",
       "      <td>2019-04-21</td>\n",
       "      <td>2115.0</td>\n",
       "      <td>Wilshire</td>\n",
       "      <td>42</td>\n",
       "      <td>M</td>\n",
       "      <td>B</td>\n",
       "      <td>F</td>\n",
       "      <td>poss/sale marij ovr 21 employ per 20/belw</td>\n",
       "      <td>34.0838</td>\n",
       "      <td>-118.3614</td>\n",
       "      <td>3</td>\n",
       "      <td>13</td>\n",
       "      <td>4</td>\n",
       "      <td>8</td>\n",
       "      <td>1</td>\n",
       "    </tr>\n",
       "    <tr>\n",
       "      <th>3</th>\n",
       "      <td>2019-05-01</td>\n",
       "      <td>1045.0</td>\n",
       "      <td>Pacific</td>\n",
       "      <td>26</td>\n",
       "      <td>M</td>\n",
       "      <td>B</td>\n",
       "      <td>F</td>\n",
       "      <td>sale/trans &gt;28.5g marijuana or &gt;4g</td>\n",
       "      <td>33.9428</td>\n",
       "      <td>-118.4054</td>\n",
       "      <td>0</td>\n",
       "      <td>0</td>\n",
       "      <td>0</td>\n",
       "      <td>0</td>\n",
       "      <td>1</td>\n",
       "    </tr>\n",
       "    <tr>\n",
       "      <th>4</th>\n",
       "      <td>2019-05-01</td>\n",
       "      <td>5.0</td>\n",
       "      <td>N Hollywood</td>\n",
       "      <td>27</td>\n",
       "      <td>M</td>\n",
       "      <td>B</td>\n",
       "      <td>F</td>\n",
       "      <td>sale/trans &gt;28.5g marijuana or &gt;4g</td>\n",
       "      <td>34.1667</td>\n",
       "      <td>-118.3965</td>\n",
       "      <td>0</td>\n",
       "      <td>1</td>\n",
       "      <td>3</td>\n",
       "      <td>4</td>\n",
       "      <td>1</td>\n",
       "    </tr>\n",
       "  </tbody>\n",
       "</table>\n",
       "</div>"
      ],
      "text/plain": [
       "  Arrest Date    Time    Area Name  Age Sex Code Descent Code  \\\n",
       "0  2019-03-09  2015.0    Hollywood   29        M            O   \n",
       "1  2019-03-09  2015.0    Hollywood   25        M            B   \n",
       "2  2019-04-21  2115.0     Wilshire   42        M            B   \n",
       "3  2019-05-01  1045.0      Pacific   26        M            B   \n",
       "4  2019-05-01     5.0  N Hollywood   27        M            B   \n",
       "\n",
       "  Arrest Type Code                         Charge Description  latitude  \\\n",
       "0                F              possession marijuana for sale   34.1016   \n",
       "1                F              possession marijuana for sale   34.1016   \n",
       "2                F  poss/sale marij ovr 21 employ per 20/belw   34.0838   \n",
       "3                F         sale/trans >28.5g marijuana or >4g   33.9428   \n",
       "4                F         sale/trans >28.5g marijuana or >4g   34.1667   \n",
       "\n",
       "   longitude  loja_0.5_milha  loja_1_milha  escola_0.5_milha  escola_1_milha  \\\n",
       "0  -118.3350               8            12                 2               5   \n",
       "1  -118.3350               8            12                 2               5   \n",
       "2  -118.3614               3            13                 4               8   \n",
       "3  -118.4054               0             0                 0               0   \n",
       "4  -118.3965               0             1                 3               4   \n",
       "\n",
       "   target  \n",
       "0       1  \n",
       "1       1  \n",
       "2       1  \n",
       "3       1  \n",
       "4       1  "
      ]
     },
     "execution_count": 15,
     "metadata": {},
     "output_type": "execute_result"
    }
   ],
   "source": [
    "# Data\n",
    "df_prisoes.head()"
   ]
  },
  {
   "cell_type": "markdown",
   "metadata": {},
   "source": [
    "Variável target incluída. Vamos checar algumas correlações."
   ]
  },
  {
   "cell_type": "code",
   "execution_count": 16,
   "metadata": {},
   "outputs": [
    {
     "data": {
      "text/html": [
       "<div>\n",
       "<style scoped>\n",
       "    .dataframe tbody tr th:only-of-type {\n",
       "        vertical-align: middle;\n",
       "    }\n",
       "\n",
       "    .dataframe tbody tr th {\n",
       "        vertical-align: top;\n",
       "    }\n",
       "\n",
       "    .dataframe thead th {\n",
       "        text-align: right;\n",
       "    }\n",
       "</style>\n",
       "<table border=\"1\" class=\"dataframe\">\n",
       "  <thead>\n",
       "    <tr style=\"text-align: right;\">\n",
       "      <th></th>\n",
       "      <th>loja_0.5_milha</th>\n",
       "      <th>loja_1_milha</th>\n",
       "    </tr>\n",
       "  </thead>\n",
       "  <tbody>\n",
       "    <tr>\n",
       "      <th>loja_0.5_milha</th>\n",
       "      <td>1.000000</td>\n",
       "      <td>0.812163</td>\n",
       "    </tr>\n",
       "    <tr>\n",
       "      <th>loja_1_milha</th>\n",
       "      <td>0.812163</td>\n",
       "      <td>1.000000</td>\n",
       "    </tr>\n",
       "  </tbody>\n",
       "</table>\n",
       "</div>"
      ],
      "text/plain": [
       "                loja_0.5_milha  loja_1_milha\n",
       "loja_0.5_milha        1.000000      0.812163\n",
       "loja_1_milha          0.812163      1.000000"
      ]
     },
     "execution_count": 16,
     "metadata": {},
     "output_type": "execute_result"
    }
   ],
   "source": [
    "# Correlation between the distance variable from the point of sale\n",
    "df_prisoes[['loja_0.5_milha','loja_1_milha']].corr()"
   ]
  },
  {
   "cell_type": "markdown",
   "metadata": {},
   "source": [
    "As variáveis estão altamente correlacionadas e isso é ruim para o modelo. \n",
    "\n",
    "Precisamos remover uma variável de cada par que avaliamos."
   ]
  },
  {
   "cell_type": "code",
   "execution_count": 17,
   "metadata": {},
   "outputs": [],
   "source": [
    "# Remove variables and put hte rest bin X\n",
    "X = df_prisoes.drop(['Arrest Date', 'Charge Description', 'target', 'loja_0.5_milha', 'escola_0.5_milha'], 1)"
   ]
  },
  {
   "cell_type": "code",
   "execution_count": 18,
   "metadata": {},
   "outputs": [],
   "source": [
    "# We create dummy variables for categorial variables, because we only work with numeric variables\n",
    "X = pd.get_dummies(X)"
   ]
  },
  {
   "cell_type": "code",
   "execution_count": 19,
   "metadata": {},
   "outputs": [
    {
     "data": {
      "text/html": [
       "<div>\n",
       "<style scoped>\n",
       "    .dataframe tbody tr th:only-of-type {\n",
       "        vertical-align: middle;\n",
       "    }\n",
       "\n",
       "    .dataframe tbody tr th {\n",
       "        vertical-align: top;\n",
       "    }\n",
       "\n",
       "    .dataframe thead th {\n",
       "        text-align: right;\n",
       "    }\n",
       "</style>\n",
       "<table border=\"1\" class=\"dataframe\">\n",
       "  <thead>\n",
       "    <tr style=\"text-align: right;\">\n",
       "      <th></th>\n",
       "      <th>Time</th>\n",
       "      <th>Age</th>\n",
       "      <th>latitude</th>\n",
       "      <th>longitude</th>\n",
       "      <th>loja_1_milha</th>\n",
       "      <th>escola_1_milha</th>\n",
       "      <th>Area Name_77th Street</th>\n",
       "      <th>Area Name_Central</th>\n",
       "      <th>Area Name_Devonshire</th>\n",
       "      <th>Area Name_Foothill</th>\n",
       "      <th>...</th>\n",
       "      <th>Descent Code_F</th>\n",
       "      <th>Descent Code_G</th>\n",
       "      <th>Descent Code_H</th>\n",
       "      <th>Descent Code_O</th>\n",
       "      <th>Descent Code_P</th>\n",
       "      <th>Descent Code_W</th>\n",
       "      <th>Descent Code_X</th>\n",
       "      <th>Arrest Type Code_F</th>\n",
       "      <th>Arrest Type Code_I</th>\n",
       "      <th>Arrest Type Code_M</th>\n",
       "    </tr>\n",
       "  </thead>\n",
       "  <tbody>\n",
       "    <tr>\n",
       "      <th>0</th>\n",
       "      <td>2015.0</td>\n",
       "      <td>29</td>\n",
       "      <td>34.1016</td>\n",
       "      <td>-118.3350</td>\n",
       "      <td>12</td>\n",
       "      <td>5</td>\n",
       "      <td>0</td>\n",
       "      <td>0</td>\n",
       "      <td>0</td>\n",
       "      <td>0</td>\n",
       "      <td>...</td>\n",
       "      <td>0</td>\n",
       "      <td>0</td>\n",
       "      <td>0</td>\n",
       "      <td>1</td>\n",
       "      <td>0</td>\n",
       "      <td>0</td>\n",
       "      <td>0</td>\n",
       "      <td>1</td>\n",
       "      <td>0</td>\n",
       "      <td>0</td>\n",
       "    </tr>\n",
       "    <tr>\n",
       "      <th>1</th>\n",
       "      <td>2015.0</td>\n",
       "      <td>25</td>\n",
       "      <td>34.1016</td>\n",
       "      <td>-118.3350</td>\n",
       "      <td>12</td>\n",
       "      <td>5</td>\n",
       "      <td>0</td>\n",
       "      <td>0</td>\n",
       "      <td>0</td>\n",
       "      <td>0</td>\n",
       "      <td>...</td>\n",
       "      <td>0</td>\n",
       "      <td>0</td>\n",
       "      <td>0</td>\n",
       "      <td>0</td>\n",
       "      <td>0</td>\n",
       "      <td>0</td>\n",
       "      <td>0</td>\n",
       "      <td>1</td>\n",
       "      <td>0</td>\n",
       "      <td>0</td>\n",
       "    </tr>\n",
       "    <tr>\n",
       "      <th>2</th>\n",
       "      <td>2115.0</td>\n",
       "      <td>42</td>\n",
       "      <td>34.0838</td>\n",
       "      <td>-118.3614</td>\n",
       "      <td>13</td>\n",
       "      <td>8</td>\n",
       "      <td>0</td>\n",
       "      <td>0</td>\n",
       "      <td>0</td>\n",
       "      <td>0</td>\n",
       "      <td>...</td>\n",
       "      <td>0</td>\n",
       "      <td>0</td>\n",
       "      <td>0</td>\n",
       "      <td>0</td>\n",
       "      <td>0</td>\n",
       "      <td>0</td>\n",
       "      <td>0</td>\n",
       "      <td>1</td>\n",
       "      <td>0</td>\n",
       "      <td>0</td>\n",
       "    </tr>\n",
       "    <tr>\n",
       "      <th>3</th>\n",
       "      <td>1045.0</td>\n",
       "      <td>26</td>\n",
       "      <td>33.9428</td>\n",
       "      <td>-118.4054</td>\n",
       "      <td>0</td>\n",
       "      <td>0</td>\n",
       "      <td>0</td>\n",
       "      <td>0</td>\n",
       "      <td>0</td>\n",
       "      <td>0</td>\n",
       "      <td>...</td>\n",
       "      <td>0</td>\n",
       "      <td>0</td>\n",
       "      <td>0</td>\n",
       "      <td>0</td>\n",
       "      <td>0</td>\n",
       "      <td>0</td>\n",
       "      <td>0</td>\n",
       "      <td>1</td>\n",
       "      <td>0</td>\n",
       "      <td>0</td>\n",
       "    </tr>\n",
       "    <tr>\n",
       "      <th>4</th>\n",
       "      <td>5.0</td>\n",
       "      <td>27</td>\n",
       "      <td>34.1667</td>\n",
       "      <td>-118.3965</td>\n",
       "      <td>1</td>\n",
       "      <td>4</td>\n",
       "      <td>0</td>\n",
       "      <td>0</td>\n",
       "      <td>0</td>\n",
       "      <td>0</td>\n",
       "      <td>...</td>\n",
       "      <td>0</td>\n",
       "      <td>0</td>\n",
       "      <td>0</td>\n",
       "      <td>0</td>\n",
       "      <td>0</td>\n",
       "      <td>0</td>\n",
       "      <td>0</td>\n",
       "      <td>1</td>\n",
       "      <td>0</td>\n",
       "      <td>0</td>\n",
       "    </tr>\n",
       "  </tbody>\n",
       "</table>\n",
       "<p>5 rows × 42 columns</p>\n",
       "</div>"
      ],
      "text/plain": [
       "     Time  Age  latitude  longitude  loja_1_milha  escola_1_milha  \\\n",
       "0  2015.0   29   34.1016  -118.3350            12               5   \n",
       "1  2015.0   25   34.1016  -118.3350            12               5   \n",
       "2  2115.0   42   34.0838  -118.3614            13               8   \n",
       "3  1045.0   26   33.9428  -118.4054             0               0   \n",
       "4     5.0   27   34.1667  -118.3965             1               4   \n",
       "\n",
       "   Area Name_77th Street  Area Name_Central  Area Name_Devonshire  \\\n",
       "0                      0                  0                     0   \n",
       "1                      0                  0                     0   \n",
       "2                      0                  0                     0   \n",
       "3                      0                  0                     0   \n",
       "4                      0                  0                     0   \n",
       "\n",
       "   Area Name_Foothill  ...  Descent Code_F  Descent Code_G  Descent Code_H  \\\n",
       "0                   0  ...               0               0               0   \n",
       "1                   0  ...               0               0               0   \n",
       "2                   0  ...               0               0               0   \n",
       "3                   0  ...               0               0               0   \n",
       "4                   0  ...               0               0               0   \n",
       "\n",
       "   Descent Code_O  Descent Code_P  Descent Code_W  Descent Code_X  \\\n",
       "0               1               0               0               0   \n",
       "1               0               0               0               0   \n",
       "2               0               0               0               0   \n",
       "3               0               0               0               0   \n",
       "4               0               0               0               0   \n",
       "\n",
       "   Arrest Type Code_F  Arrest Type Code_I  Arrest Type Code_M  \n",
       "0                   1                   0                   0  \n",
       "1                   1                   0                   0  \n",
       "2                   1                   0                   0  \n",
       "3                   1                   0                   0  \n",
       "4                   1                   0                   0  \n",
       "\n",
       "[5 rows x 42 columns]"
      ]
     },
     "execution_count": 19,
     "metadata": {},
     "output_type": "execute_result"
    }
   ],
   "source": [
    "# Data\n",
    "X.head()"
   ]
  },
  {
   "cell_type": "code",
   "execution_count": 20,
   "metadata": {},
   "outputs": [],
   "source": [
    "# We separate y\n",
    "y = df_prisoes['target']"
   ]
  },
  {
   "cell_type": "code",
   "execution_count": 21,
   "metadata": {},
   "outputs": [
    {
     "data": {
      "text/plain": [
       "0    1\n",
       "1    1\n",
       "2    1\n",
       "3    1\n",
       "4    1\n",
       "Name: target, dtype: int64"
      ]
     },
     "execution_count": 21,
     "metadata": {},
     "output_type": "execute_result"
    }
   ],
   "source": [
    "# data\n",
    "y.head()"
   ]
  },
  {
   "cell_type": "code",
   "execution_count": 22,
   "metadata": {},
   "outputs": [],
   "source": [
    "# Division in training and test data\n",
    "X_treino, X_teste, y_treino, y_teste = train_test_split(X, y, random_state = 42, stratify = y)"
   ]
  },
  {
   "cell_type": "code",
   "execution_count": 23,
   "metadata": {},
   "outputs": [],
   "source": [
    "# Create the model\n",
    "modelo_lr = LogisticRegression()"
   ]
  },
  {
   "cell_type": "code",
   "execution_count": 24,
   "metadata": {},
   "outputs": [
    {
     "data": {
      "text/plain": [
       "LogisticRegression()"
      ]
     },
     "execution_count": 24,
     "metadata": {},
     "output_type": "execute_result"
    }
   ],
   "source": [
    "# Training the model\n",
    "modelo_lr.fit(X_treino, y_treino)"
   ]
  },
  {
   "cell_type": "code",
   "execution_count": 25,
   "metadata": {},
   "outputs": [
    {
     "name": "stdout",
     "output_type": "stream",
     "text": [
      "Acurácia em Treino: 89.0\n"
     ]
    }
   ],
   "source": [
    "# Assessses accuracy in training\n",
    "acc_treino = modelo_lr.score(X_treino, y_treino)\n",
    "print(f'Acurácia em Treino: {round(acc_treino, 2) * 100}')"
   ]
  },
  {
   "cell_type": "code",
   "execution_count": 26,
   "metadata": {},
   "outputs": [
    {
     "name": "stdout",
     "output_type": "stream",
     "text": [
      "Acurácia em Teste: 90.0\n"
     ]
    }
   ],
   "source": [
    "# Assesses a acuracy in Test \n",
    "acc_teste = modelo_lr.score(X_teste, y_teste)\n",
    "print(f'Acurácia em Teste: {round(acc_teste, 2) * 100}')"
   ]
  },
  {
   "cell_type": "markdown",
   "metadata": {},
   "source": [
    "Estamos com boa acurácia. Vamos extrair os coeficientes e realizar mais algumas análises."
   ]
  },
  {
   "cell_type": "code",
   "execution_count": 27,
   "metadata": {},
   "outputs": [],
   "source": [
    "# Beta coefficients of the model\n",
    "beta = modelo_lr.coef_[0]"
   ]
  },
  {
   "cell_type": "code",
   "execution_count": 28,
   "metadata": {},
   "outputs": [],
   "source": [
    "# Attributes\n",
    "atributos = list(X.columns)"
   ]
  },
  {
   "cell_type": "code",
   "execution_count": 29,
   "metadata": {},
   "outputs": [],
   "source": [
    "# We created a dataframe associating the coeficients to the attributes and adjusted the index\n",
    "beta_df = pd.DataFrame({'atributos' : atributos, 'beta' : beta})\n",
    "beta_df.set_index('atributos', inplace = True)"
   ]
  },
  {
   "cell_type": "code",
   "execution_count": 30,
   "metadata": {},
   "outputs": [
    {
     "data": {
      "text/html": [
       "<div>\n",
       "<style scoped>\n",
       "    .dataframe tbody tr th:only-of-type {\n",
       "        vertical-align: middle;\n",
       "    }\n",
       "\n",
       "    .dataframe tbody tr th {\n",
       "        vertical-align: top;\n",
       "    }\n",
       "\n",
       "    .dataframe thead th {\n",
       "        text-align: right;\n",
       "    }\n",
       "</style>\n",
       "<table border=\"1\" class=\"dataframe\">\n",
       "  <thead>\n",
       "    <tr style=\"text-align: right;\">\n",
       "      <th></th>\n",
       "      <th>beta</th>\n",
       "    </tr>\n",
       "    <tr>\n",
       "      <th>atributos</th>\n",
       "      <th></th>\n",
       "    </tr>\n",
       "  </thead>\n",
       "  <tbody>\n",
       "    <tr>\n",
       "      <th>Time</th>\n",
       "      <td>-0.000027</td>\n",
       "    </tr>\n",
       "    <tr>\n",
       "      <th>Age</th>\n",
       "      <td>-0.017298</td>\n",
       "    </tr>\n",
       "    <tr>\n",
       "      <th>latitude</th>\n",
       "      <td>-0.553670</td>\n",
       "    </tr>\n",
       "    <tr>\n",
       "      <th>longitude</th>\n",
       "      <td>-0.155785</td>\n",
       "    </tr>\n",
       "    <tr>\n",
       "      <th>loja_1_milha</th>\n",
       "      <td>-0.001657</td>\n",
       "    </tr>\n",
       "  </tbody>\n",
       "</table>\n",
       "</div>"
      ],
      "text/plain": [
       "                  beta\n",
       "atributos             \n",
       "Time         -0.000027\n",
       "Age          -0.017298\n",
       "latitude     -0.553670\n",
       "longitude    -0.155785\n",
       "loja_1_milha -0.001657"
      ]
     },
     "execution_count": 30,
     "metadata": {},
     "output_type": "execute_result"
    }
   ],
   "source": [
    "# Data\n",
    "beta_df.head()"
   ]
  },
  {
   "cell_type": "code",
   "execution_count": 31,
   "metadata": {},
   "outputs": [],
   "source": [
    "# Let's extract the ODD Log\n",
    "beta_df['log_odds'] = beta_df['beta'].map(lambda x: np.exp(x))"
   ]
  },
  {
   "cell_type": "code",
   "execution_count": 32,
   "metadata": {},
   "outputs": [],
   "source": [
    "# We sort the data\n",
    "beta_df = beta_df.sort_values('log_odds', ascending = False)"
   ]
  },
  {
   "cell_type": "code",
   "execution_count": 33,
   "metadata": {},
   "outputs": [
    {
     "data": {
      "text/html": [
       "<div>\n",
       "<style scoped>\n",
       "    .dataframe tbody tr th:only-of-type {\n",
       "        vertical-align: middle;\n",
       "    }\n",
       "\n",
       "    .dataframe tbody tr th {\n",
       "        vertical-align: top;\n",
       "    }\n",
       "\n",
       "    .dataframe thead th {\n",
       "        text-align: right;\n",
       "    }\n",
       "</style>\n",
       "<table border=\"1\" class=\"dataframe\">\n",
       "  <thead>\n",
       "    <tr style=\"text-align: right;\">\n",
       "      <th></th>\n",
       "      <th>beta</th>\n",
       "      <th>log_odds</th>\n",
       "    </tr>\n",
       "    <tr>\n",
       "      <th>atributos</th>\n",
       "      <th></th>\n",
       "      <th></th>\n",
       "    </tr>\n",
       "  </thead>\n",
       "  <tbody>\n",
       "    <tr>\n",
       "      <th>Arrest Type Code_F</th>\n",
       "      <td>3.516854</td>\n",
       "      <td>33.678295</td>\n",
       "    </tr>\n",
       "    <tr>\n",
       "      <th>Area Name_Southeast</th>\n",
       "      <td>1.462502</td>\n",
       "      <td>4.316746</td>\n",
       "    </tr>\n",
       "    <tr>\n",
       "      <th>Descent Code_B</th>\n",
       "      <td>0.875014</td>\n",
       "      <td>2.398909</td>\n",
       "    </tr>\n",
       "    <tr>\n",
       "      <th>Area Name_Pacific</th>\n",
       "      <td>0.676805</td>\n",
       "      <td>1.967581</td>\n",
       "    </tr>\n",
       "    <tr>\n",
       "      <th>Sex Code_F</th>\n",
       "      <td>0.616998</td>\n",
       "      <td>1.853356</td>\n",
       "    </tr>\n",
       "    <tr>\n",
       "      <th>Area Name_Hollywood</th>\n",
       "      <td>0.269063</td>\n",
       "      <td>1.308738</td>\n",
       "    </tr>\n",
       "    <tr>\n",
       "      <th>Area Name_Harbor</th>\n",
       "      <td>0.263483</td>\n",
       "      <td>1.301455</td>\n",
       "    </tr>\n",
       "    <tr>\n",
       "      <th>Area Name_77th Street</th>\n",
       "      <td>0.187661</td>\n",
       "      <td>1.206424</td>\n",
       "    </tr>\n",
       "    <tr>\n",
       "      <th>Area Name_Central</th>\n",
       "      <td>0.178298</td>\n",
       "      <td>1.195181</td>\n",
       "    </tr>\n",
       "    <tr>\n",
       "      <th>Descent Code_H</th>\n",
       "      <td>0.115371</td>\n",
       "      <td>1.122289</td>\n",
       "    </tr>\n",
       "  </tbody>\n",
       "</table>\n",
       "</div>"
      ],
      "text/plain": [
       "                           beta   log_odds\n",
       "atributos                                 \n",
       "Arrest Type Code_F     3.516854  33.678295\n",
       "Area Name_Southeast    1.462502   4.316746\n",
       "Descent Code_B         0.875014   2.398909\n",
       "Area Name_Pacific      0.676805   1.967581\n",
       "Sex Code_F             0.616998   1.853356\n",
       "Area Name_Hollywood    0.269063   1.308738\n",
       "Area Name_Harbor       0.263483   1.301455\n",
       "Area Name_77th Street  0.187661   1.206424\n",
       "Area Name_Central      0.178298   1.195181\n",
       "Descent Code_H         0.115371   1.122289"
      ]
     },
     "execution_count": 33,
     "metadata": {},
     "output_type": "execute_result"
    }
   ],
   "source": [
    "# Data\n",
    "beta_df.head(10)"
   ]
  },
  {
   "cell_type": "markdown",
   "metadata": {},
   "source": [
    "Todas as variáveis são relevantes para a previsão de prisão por venda de maconha."
   ]
  },
  {
   "cell_type": "code",
   "execution_count": 34,
   "metadata": {},
   "outputs": [
    {
     "data": {
      "text/html": [
       "<div>\n",
       "<style scoped>\n",
       "    .dataframe tbody tr th:only-of-type {\n",
       "        vertical-align: middle;\n",
       "    }\n",
       "\n",
       "    .dataframe tbody tr th {\n",
       "        vertical-align: top;\n",
       "    }\n",
       "\n",
       "    .dataframe thead th {\n",
       "        text-align: right;\n",
       "    }\n",
       "</style>\n",
       "<table border=\"1\" class=\"dataframe\">\n",
       "  <thead>\n",
       "    <tr style=\"text-align: right;\">\n",
       "      <th></th>\n",
       "      <th>beta</th>\n",
       "      <th>log_odds</th>\n",
       "    </tr>\n",
       "    <tr>\n",
       "      <th>atributos</th>\n",
       "      <th></th>\n",
       "      <th></th>\n",
       "    </tr>\n",
       "  </thead>\n",
       "  <tbody>\n",
       "    <tr>\n",
       "      <th>escola_1_milha</th>\n",
       "      <td>0.027373</td>\n",
       "      <td>1.027751</td>\n",
       "    </tr>\n",
       "  </tbody>\n",
       "</table>\n",
       "</div>"
      ],
      "text/plain": [
       "                    beta  log_odds\n",
       "atributos                         \n",
       "escola_1_milha  0.027373  1.027751"
      ]
     },
     "execution_count": 34,
     "metadata": {},
     "output_type": "execute_result"
    }
   ],
   "source": [
    "# Let's check the school records 1 mile away\n",
    "beta_df[beta_df.index == 'escola_1_milha']"
   ]
  },
  {
   "cell_type": "markdown",
   "metadata": {},
   "source": [
    "O modelo de Regressão Logística permite extrair não apenas previsões de classe, mas também as probabilidades. Vejamos que análises podemos fazer com isso."
   ]
  },
  {
   "cell_type": "code",
   "execution_count": 35,
   "metadata": {},
   "outputs": [],
   "source": [
    "# Probabilities of arrest for manijuana sales (target class = 1)\n",
    "prob_prisao_vendas = modelo_lr.predict_proba(X_teste)[:,1]"
   ]
  },
  {
   "cell_type": "code",
   "execution_count": 36,
   "metadata": {},
   "outputs": [
    {
     "data": {
      "text/plain": [
       "array([0.11821339, 0.73863631, 0.96730131, ..., 0.98070318, 0.94495389,\n",
       "       0.97047262])"
      ]
     },
     "execution_count": 36,
     "metadata": {},
     "output_type": "execute_result"
    }
   ],
   "source": [
    "# Probabilities\n",
    "prob_prisao_vendas"
   ]
  },
  {
   "cell_type": "code",
   "execution_count": 37,
   "metadata": {},
   "outputs": [],
   "source": [
    "# Creates a dataframe with real values and predicted probabilities\n",
    "pred_df = pd.DataFrame({'Valores_reais': y_teste, 'valores_previstos':prob_prisao_vendas})"
   ]
  },
  {
   "cell_type": "code",
   "execution_count": 43,
   "metadata": {},
   "outputs": [
    {
     "data": {
      "text/html": [
       "<div>\n",
       "<style scoped>\n",
       "    .dataframe tbody tr th:only-of-type {\n",
       "        vertical-align: middle;\n",
       "    }\n",
       "\n",
       "    .dataframe tbody tr th {\n",
       "        vertical-align: top;\n",
       "    }\n",
       "\n",
       "    .dataframe thead th {\n",
       "        text-align: right;\n",
       "    }\n",
       "</style>\n",
       "<table border=\"1\" class=\"dataframe\">\n",
       "  <thead>\n",
       "    <tr style=\"text-align: right;\">\n",
       "      <th></th>\n",
       "      <th>Valores_reais</th>\n",
       "      <th>valores_previstos</th>\n",
       "    </tr>\n",
       "  </thead>\n",
       "  <tbody>\n",
       "    <tr>\n",
       "      <th>1780</th>\n",
       "      <td>0</td>\n",
       "      <td>0.118213</td>\n",
       "    </tr>\n",
       "    <tr>\n",
       "      <th>2379</th>\n",
       "      <td>0</td>\n",
       "      <td>0.738636</td>\n",
       "    </tr>\n",
       "    <tr>\n",
       "      <th>3731</th>\n",
       "      <td>1</td>\n",
       "      <td>0.967301</td>\n",
       "    </tr>\n",
       "    <tr>\n",
       "      <th>6068</th>\n",
       "      <td>1</td>\n",
       "      <td>0.923919</td>\n",
       "    </tr>\n",
       "    <tr>\n",
       "      <th>4958</th>\n",
       "      <td>1</td>\n",
       "      <td>0.954287</td>\n",
       "    </tr>\n",
       "  </tbody>\n",
       "</table>\n",
       "</div>"
      ],
      "text/plain": [
       "      Valores_reais  valores_previstos\n",
       "1780              0           0.118213\n",
       "2379              0           0.738636\n",
       "3731              1           0.967301\n",
       "6068              1           0.923919\n",
       "4958              1           0.954287"
      ]
     },
     "execution_count": 43,
     "metadata": {},
     "output_type": "execute_result"
    }
   ],
   "source": [
    "# Data\n",
    "pred_df.head()"
   ]
  },
  {
   "cell_type": "code",
   "execution_count": 49,
   "metadata": {},
   "outputs": [
    {
     "data": {
      "image/png": "[encoded data removed]",
      "text/plain": [
       "<Figure size 1296x720 with 1 Axes>"
      ]
     },
     "metadata": {
      "needs_background": "light"
     },
     "output_type": "display_data"
    }
   ],
   "source": [
    "# Plotbability Distribution Plot\n",
    "\n",
    "# Figure\n",
    "plt.figure(figsize  = (18,10))\n",
    "\n",
    "# Histogram of actual x predicted values for class 1\n",
    "plt.hist(pred_df[pred_df['Valores_reais'] ==1]['valores_previstos'],\n",
    "        bins = 30,\n",
    "        color = 'r',\n",
    "        alpha = 0.6,\n",
    "        label = 'Vendas de Maconha')\n",
    "\n",
    "# Histogram of actual x predicted values for class 1\n",
    "plt.hist(pred_df[pred_df['Valores_reais'] == 0]['valores_previstos'],\n",
    "        bins = 30,\n",
    "        color = 'blue',\n",
    "        alpha = 0.6,\n",
    "        label = 'Sem Venda de Maconha')\n",
    "\n",
    "# Chart centerline - vline - vertical line\n",
    "plt.vlines(x = 0.5, ymin = 0, ymax = 200, color = 'green', linestyle = '-.')\n",
    "\n",
    "# lables and caption\n",
    "plt.title('\\nDistribuição de Probabilidade\\n', fontsize = 20)\n",
    "plt.ylabel('\\nFrequência\\n', fontsize = 20)\n",
    "plt.xlabel('\\nProbabilidade Prevista de Prisões Por Venda de Maconha\\n', fontsize = 18)\n",
    "plt.legend(fontsize = 20);"
   ]
  },
  {
   "cell_type": "markdown",
   "metadata": {},
   "source": [
    "Será que a proximidade de um Departamento de Polícia altera o resultado? Vamos analisar."
   ]
  },
  {
   "cell_type": "code",
   "execution_count": 51,
   "metadata": {},
   "outputs": [],
   "source": [
    "# Extract coefficients by area name\n",
    "beta_df = beta_df[beta_df.index.str.contains('Area Name')].head(8)"
   ]
  },
  {
   "cell_type": "code",
   "execution_count": 53,
   "metadata": {},
   "outputs": [
    {
     "data": {
      "text/html": [
       "<div>\n",
       "<style scoped>\n",
       "    .dataframe tbody tr th:only-of-type {\n",
       "        vertical-align: middle;\n",
       "    }\n",
       "\n",
       "    .dataframe tbody tr th {\n",
       "        vertical-align: top;\n",
       "    }\n",
       "\n",
       "    .dataframe thead th {\n",
       "        text-align: right;\n",
       "    }\n",
       "</style>\n",
       "<table border=\"1\" class=\"dataframe\">\n",
       "  <thead>\n",
       "    <tr style=\"text-align: right;\">\n",
       "      <th></th>\n",
       "      <th>beta</th>\n",
       "      <th>log_odds</th>\n",
       "    </tr>\n",
       "    <tr>\n",
       "      <th>atributos</th>\n",
       "      <th></th>\n",
       "      <th></th>\n",
       "    </tr>\n",
       "  </thead>\n",
       "  <tbody>\n",
       "    <tr>\n",
       "      <th>Area Name_Southeast</th>\n",
       "      <td>1.462502</td>\n",
       "      <td>4.316746</td>\n",
       "    </tr>\n",
       "    <tr>\n",
       "      <th>Area Name_Pacific</th>\n",
       "      <td>0.676805</td>\n",
       "      <td>1.967581</td>\n",
       "    </tr>\n",
       "    <tr>\n",
       "      <th>Area Name_Hollywood</th>\n",
       "      <td>0.269063</td>\n",
       "      <td>1.308738</td>\n",
       "    </tr>\n",
       "    <tr>\n",
       "      <th>Area Name_Harbor</th>\n",
       "      <td>0.263483</td>\n",
       "      <td>1.301455</td>\n",
       "    </tr>\n",
       "    <tr>\n",
       "      <th>Area Name_77th Street</th>\n",
       "      <td>0.187661</td>\n",
       "      <td>1.206424</td>\n",
       "    </tr>\n",
       "  </tbody>\n",
       "</table>\n",
       "</div>"
      ],
      "text/plain": [
       "                           beta  log_odds\n",
       "atributos                                \n",
       "Area Name_Southeast    1.462502  4.316746\n",
       "Area Name_Pacific      0.676805  1.967581\n",
       "Area Name_Hollywood    0.269063  1.308738\n",
       "Area Name_Harbor       0.263483  1.301455\n",
       "Area Name_77th Street  0.187661  1.206424"
      ]
     },
     "execution_count": 53,
     "metadata": {},
     "output_type": "execute_result"
    }
   ],
   "source": [
    "# Data\n",
    "beta_df.head()"
   ]
  },
  {
   "cell_type": "markdown",
   "metadata": {},
   "source": [
    "Os Departamentos de Polícia na cidade de Los Angeles estão registrados aqui:\n",
    "\n",
    "http://www.lapdonline.org/our_communities/content_basic_view/6279\n",
    "\n",
    "Precisamos das coordenadas para os gráficos."
   ]
  },
  {
   "cell_type": "code",
   "execution_count": 54,
   "metadata": {},
   "outputs": [],
   "source": [
    "# Latitude of Police Departments in the City of Los Angeles\n",
    "beta_df['latitude'] = [33.9383761,\n",
    "                       34.097986,\n",
    "                       33.9920067,\n",
    "                       34.0443028,\n",
    "                       33.7584097,\n",
    "                       34.050264,\n",
    "                       34.1195162,\n",
    "                       34.1842023]"
   ]
  },
  {
   "cell_type": "code",
   "execution_count": 55,
   "metadata": {},
   "outputs": [],
   "source": [
    "# Longitude of Police Departaments in the City of Las Angeles\n",
    "beta_df['longitude'] = [-118.2749244,\n",
    "                        -118.331013,\n",
    "                        -118.4199295,\n",
    "                        -118.4509833,\n",
    "                        -118.2880336,\n",
    "                        -118.291531,\n",
    "                        -118.2497385,\n",
    "                        -118.3021552]"
   ]
  },
  {
   "cell_type": "code",
   "execution_count": 56,
   "metadata": {},
   "outputs": [
    {
     "data": {
      "image/png": "[encoded data removed]",
      "text/plain": [
       "<Figure size 1296x720 with 1 Axes>"
      ]
     },
     "metadata": {
      "needs_background": "light"
     },
     "output_type": "display_data"
    }
   ],
   "source": [
    "# Class 1 plot with main attributes versus marijuana arrests\n",
    "\n",
    "# Figure\n",
    "fig, ax = plt.subplots(figsize = (18,10))\n",
    "\n",
    "# Plot\n",
    "plt.scatter(df_prisoes[df_prisoes['target'] == 1]['latitude'], \n",
    "            df_prisoes[df_prisoes['target'] == 1]['longitude'], \n",
    "            s = 15, \n",
    "            alpha = 0.4,\n",
    "            label = 'Prisões Por Venda de Maconha')\n",
    "\n",
    "# Title, labels and caption\n",
    "ax.scatter(beta_df['latitude'], beta_df['longitude'], color = 'red', label = 'Departamentos de Polícia em LA', s = 100)\n",
    "plt.title('\\nPrisões Por Venda de Maconha x Departamentos de Polícia em LA\\n', fontsize = 24)\n",
    "plt.xlabel('\\nLatitude\\n', fontsize = 20)\n",
    "plt.ylabel('\\nLongitude\\n', fontsize = 20)\n",
    "ax.legend(fontsize = 20)\n",
    "plt.tight_layout()"
   ]
  },
  {
   "cell_type": "code",
   "execution_count": 57,
   "metadata": {},
   "outputs": [
    {
     "data": {
      "image/png": "[encoded data removed]",
      "text/plain": [
       "<Figure size 1296x720 with 1 Axes>"
      ]
     },
     "metadata": {
      "needs_background": "light"
     },
     "output_type": "display_data"
    }
   ],
   "source": [
    "# Class 0 plot with main attributes versus marijuana arrests\n",
    "\n",
    "# Figure\n",
    "fig, ax = plt.subplots(figsize = (18,10))\n",
    "\n",
    "# Plot\n",
    "plt.scatter(df_prisoes[df_prisoes['target'] ==0]['latitude'], \n",
    "            df_prisoes[df_prisoes['target'] ==0]['longitude'], \n",
    "            s = 15, \n",
    "            alpha = 0.4,\n",
    "            label = 'Prisões Por Outras Razões')\n",
    "\n",
    "# Title, Legend and caption\n",
    "ax.scatter(beta_df['latitude'], beta_df['longitude'], color = 'red', label = 'Departamentos de Polícia em LA', s = 100)\n",
    "plt.title('\\nPrisões Por Outras Razões x Departamentos de Polícia em LA\\n', fontsize = 24)\n",
    "plt.xlabel('\\nLatitude\\n', fontsize = 20)\n",
    "plt.ylabel('\\nLongitude\\n', fontsize = 20)\n",
    "ax.legend(fontsize = 20)\n",
    "plt.tight_layout()"
   ]
  },
  {
   "cell_type": "markdown",
   "metadata": {},
   "source": [
    "### Conclusão Final\n",
    "\n",
    "\n",
    "Como resultado, o medo de exposição à maconha para crianças e menores parece não ser um fator. Existem duas classes: vender maconha e não vender maconha, e argumenta-se que a venda de maconha expõe mais crianças à maconha. A variável **escola_1_milha** é a contagem de escolas que estão dentro de 1 milha de cada prisão. Devido às chances de log de 'escola_1_milha' iguais a uma, ter uma escola a menos de 1,6 km de uma prisão é tão provável quanto a prisão por maconha estar relacionada à venda e a não venda."
   ]
  },
  {
   "cell_type": "markdown",
   "metadata": {},
   "source": [
    "<a href=\"https://github.com/rodolffoterra/Projct_Marijuana_Legalization_TS/blob/main/Projct_Marijuana_Legalization_TS_Part5.ipynb\">Retornar o Projeto: Parte. 5</a>&nbsp; &nbsp;&nbsp; &nbsp;&nbsp; &nbsp;&nbsp; &nbsp;&nbsp; &nbsp;&nbsp; &nbsp;&nbsp; &nbsp;&nbsp; &nbsp;&nbsp; &nbsp;&nbsp; &nbsp;&nbsp; &nbsp;&nbsp; &nbsp;&nbsp; &nbsp;&nbsp; &nbsp;&nbsp; &nbsp;&nbsp; &nbsp;&nbsp; &nbsp;&nbsp; &nbsp;&nbsp; &nbsp;&nbsp; &nbsp;&nbsp; &nbsp;&nbsp; &nbsp;&nbsp; &nbsp;&nbsp; &nbsp;&nbsp; &nbsp;&nbsp; &nbsp;&nbsp; &nbsp;&nbsp; &nbsp;&nbsp; &nbsp;&nbsp; &nbsp;&nbsp; &nbsp;&nbsp; &nbsp;&nbsp; &nbsp;&nbsp; &nbsp;&nbsp; &nbsp;&nbsp; &nbsp;&nbsp; &nbsp;&nbsp; &nbsp;&nbsp; &nbsp;&nbsp; &nbsp;&nbsp; &nbsp;&nbsp; &nbsp;&nbsp; &nbsp;&nbsp; &nbsp;&nbsp; &nbsp;&nbsp; &nbsp;&nbsp; &nbsp;&nbsp; &nbsp;&nbsp; &nbsp;&nbsp; &nbsp;&nbsp; &nbsp;&nbsp; &nbsp;&nbsp; &nbsp;&nbsp; &nbsp;&nbsp; &nbsp;&nbsp; &nbsp;&nbsp; &nbsp;&nbsp; &nbsp;&nbsp; &nbsp;&nbsp; &nbsp;&nbsp;<a href=\"https://github.com/rodolffoterra/Projct_Marijuana_Legalization_TS/blob/main/Projct_Marijuana_Legalization_TS_Part5.ipynb\">Dashboard</a>"
   ]
  },
  {
   "cell_type": "markdown",
   "metadata": {},
   "source": [
    "![Rodolfo Terra](https://raw.githubusercontent.com/rodolffoterra/Projct_Marijuana_Legalization_TS/main/imagnes/logo.png)"
   ]
  }
 ],
 "metadata": {
  "kernelspec": {
   "display_name": "Python 3",
   "language": "python",
   "name": "python3"
  },
  "language_info": {
   "codemirror_mode": {
    "name": "ipython",
    "version": 3
   },
   "file_extension": ".py",
   "mimetype": "text/x-python",
   "name": "python",
   "nbconvert_exporter": "python",
   "pygments_lexer": "ipython3",
   "version": "3.8.5"
  }
 },
 "nbformat": 4,
 "nbformat_minor": 4
}
