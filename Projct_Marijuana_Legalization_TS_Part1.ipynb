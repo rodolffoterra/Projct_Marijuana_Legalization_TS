{
 "cells": [
  {
   "cell_type": "code",
   "execution_count": 1,
   "metadata": {},
   "outputs": [
    {
     "name": "stdout",
     "output_type": "stream",
     "text": [
      "Versão da Linguagem Python Usada neste projeto: 3.8.5\n"
     ]
    }
   ],
   "source": [
    "#Python Language Version \n",
    "\n",
    "from platform import python_version\n",
    "print('Versão da Linguagem Python Usada neste projeto:', python_version())"
   ]
  },
  {
   "cell_type": "markdown",
   "metadata": {},
   "source": [
    "# Análise Estatística e Modelagem Preditiva de Séries Temporais - Em Python\n",
    "\n",
    "### Projeto - Qual o Efeito da Legalização da Maconha na Taxa de Criminalidade ao Longo do Tempo?"
   ]
  },
  {
   "cell_type": "markdown",
   "metadata": {},
   "source": [
    "![Rodolfo Terra](https://raw.githubusercontent.com/rodolffoterra/Projct_Marijuana_Legalization_TS/main/imagnes/layout.png)"
   ]
  },
  {
   "cell_type": "markdown",
   "metadata": {},
   "source": [
    "O projeto elaborado está longe de demonstrar opinião pessoal do cientista de dados.\n",
    "\n",
    "\n",
    "### Definição do Problema\n",
    "\n",
    "Em 2016, os eleitores da Califórnia nos EUA aprovaram a Proposição 64, que legalizou o uso recreativo da maconha no estado. Neste link você encontra os detalhes sobre a aprovação da Proposição 64:\n",
    "\n",
    "<a href=\"https://ballotpedia.org/California_Proposition_64,_Marijuana_Legalization_(2016)\">California Proposition 64, Marijuana Legalization (2016)</a>\n",
    "\n",
    "Os opositores à medida apresentaram cinco principais objeções à mudança no Guia Oficial de Informações do Eleitor do estado. Eles argumentaram que a legalização:\n",
    "\n",
    "- (1) Dobraria o número de mortes nas rodovias.\n",
    "\n",
    "- (2) Permitiria o cultivo de maconha perto de escolas e parques.\n",
    "\n",
    "- (3) Aumentaria a atividade do mercado negro e do cartel.\n",
    "\n",
    "- (4) Prejudicaria as comunidades pobres com problemas de dependência por meio do influxo de novos pontos de vendas de maconha.\n",
    "\n",
    "- (5) Aumentaria a criminalidade ao longo do tempo, especialmente nas áreas próximas aos pontos de venda de maconha legalizada (cada ponto de venda de maconha legalizada é chamado de marijuana dispensary). \n",
    "\n",
    "Nosso trabalho é \"simples\".\n",
    "\n",
    "Vamos realizar uma análise de dados com base em séries temporais e análises geoespaciais, além de outras técnicas exploratórias mais gerais, para examinar se essas previsões se tornaram realidade em Los Angeles desde que a legalização entrou em vigor. Nosso foco principal será nos dados disponíveis sobre detenções por crimes relacionados à maconha e na taxa geral de crimes nas proximidades de dispensários. Vamos focar principalmente nos itens 2, 4 e 5 acima.\n",
    "\n",
    "Os dados usados neste projeto estão disponíveis publicamente e são oferecidos pelo portal de dados abertos do governo de Los Angeles.\n",
    "\n",
    "Você é favor ou contra à legalização da Maconha? Acompanhe o projeto passo a passo, leia atentamente cada comentário e então emita sua opinião com base em dados."
   ]
  },
  {
   "cell_type": "code",
   "execution_count": 6,
   "metadata": {},
   "outputs": [],
   "source": [
    "# The new versions of Pandas and Matplotlib bring several warning messages to the developer.; Let's disable this\n",
    "import sys\n",
    "import warnings\n",
    "import matplotlib.cbook\n",
    "if not sys.warnoptions:\n",
    "    warnings.simplefilter(\"ignore\")\n",
    "warnings.simplefilter(action='ignore', category=FutureWarning)\n",
    "warnings.filterwarnings(\"ignore\", category=FutureWarning)\n",
    "warnings.filterwarnings(\"ignore\", category=matplotlib.cbook.mplDeprecation)\n",
    "\n",
    "# Imports for data Manipulation \n",
    "import re\n",
    "import json\n",
    "import time\n",
    "import numpy as np\n",
    "import pandas as pd\n",
    "from yelp.client import Client\n",
    "from yelpapi import YelpAPI"
   ]
  },
  {
   "cell_type": "code",
   "execution_count": 7,
   "metadata": {},
   "outputs": [],
   "source": [
    "# Here you must include your Yelp API\n",
    "minha_api = \"G-7tkyXV3PObpunUwPENqR7R6aQJMKofQHsknJgwW5kJtjMMHSvuKTumtMjygMBpX2FewA9UaHZbFm6sIDUOOEoIAH7YLfZrShfTg8sk_D8e_Ys4XlADIKYmeyn-X3Yx\""
   ]
  },
  {
   "cell_type": "code",
   "execution_count": 8,
   "metadata": {},
   "outputs": [],
   "source": [
    "# With the API defined, create ana ccess cliente\n",
    "cliente_acesso = Client(minha_api)"
   ]
  },
  {
   "cell_type": "markdown",
   "metadata": {},
   "source": [
    "A função abaixo é para formatar o arquivo retornado com as consultas da API e gerar um arquivo de log da execução (uma espécie de histórico)."
   ]
  },
  {
   "cell_type": "code",
   "execution_count": 9,
   "metadata": {},
   "outputs": [],
   "source": [
    "# Função para formatar o arquivo com as consultas à API\n",
    "def formata_arquivo(file_path, \n",
    "                    logfile = './dados/arquivo_log.txt',  \n",
    "                    file_description = None): \n",
    "   \n",
    "    # Com o nome completo do arquivo, aplicamos expressões regulares para a limpeza\n",
    "    # Aqui ajustamos a extensão do arquivo\n",
    "    try:\n",
    "        ext = re.search('(?<!^)(?<!\\.)\\.(?!\\.)', file_path).start() \n",
    "    except:\n",
    "        raise NameError('Digite um caminho de onde o arquivo pode ser encontrado.') \n",
    "    \n",
    "    # Com o nome completo do arquivo, aplicamos expressões regulares para a limpeza\n",
    "    # Aqui ajustamos timestamp para o nome do arquivo\n",
    "    try:\n",
    "        stamp = re.search('(?<!^)(?<!\\.)[a-z]+_[a-z]+(?=\\.)', file_path).start()\n",
    "    except:\n",
    "        raise NameError('Digite um caminho de onde o arquivo pode ser encontrado.') \n",
    "        \n",
    "    # Formata o nome do arquivo adicionando o timestamp\n",
    "    formatted_name = f'{file_path[:stamp]}{round(time.time())}_{file_path[stamp:]}' \n",
    "    \n",
    "    # Se não tiver descrição no arquivo, adicionamos uma\n",
    "    if not file_description:\n",
    "        file_description = f'Arquivo gerado em: {time.asctime(time.gmtime(round(time.time())))}'\n",
    "        \n",
    "    # Abrimos o arquivo de log e gravamos o arquivo de dados formatado e a descrição\n",
    "    with open(logfile, 'a+') as f:\n",
    "        f.write(f'{formatted_name}: {file_description}\\n')\n",
    "        \n",
    "    # Retornamos o arquivo de dados formatado e a descrição\n",
    "    return formatted_name, file_description"
   ]
  },
  {
   "cell_type": "markdown",
   "metadata": {},
   "source": [
    "A próxima função vai conectar ao Yelp com via API e retornar 1000 amostras, ou seja, 1000 registros de lojas que estão classificadas como \"dispensaries\" (lojas que vendem maconha legalizada em Los Angeles)."
   ]
  },
  {
   "cell_type": "code",
   "execution_count": 10,
   "metadata": {},
   "outputs": [],
   "source": [
    "# Função de busca das lojas que vendem maconha legalizada em Los Angeles\n",
    "def busca_yelp(category, \n",
    "               location, \n",
    "               offset_number = 0, \n",
    "               n_samples = 1000):\n",
    "    \n",
    "    # API\n",
    "    yelp_api = YelpAPI(minha_api)\n",
    "    \n",
    "    # Registro do último resultado\n",
    "    last_result = round(time.time())\n",
    "    \n",
    "    # Lista para gravar os resultados\n",
    "    resultados = []\n",
    "    \n",
    "    # Tamanho\n",
    "    size = 50\n",
    "    \n",
    "    # Inicializa o número de loops\n",
    "    loops = 0\n",
    "    \n",
    "    # Inicializa o número de execuções\n",
    "    run = 1\n",
    "    \n",
    "    # Inicializa o offset\n",
    "    offset_count = offset_number\n",
    "   \n",
    "    # Loop para retonar os dados\n",
    "    while loops < n_samples:\n",
    "        \n",
    "        print(f'Iniciando consulta {run}')\n",
    "        \n",
    "        # Fazendo a consulta\n",
    "        posts = yelp_api.search_query(categories = category, \n",
    "                                      location = location, \n",
    "                                      offset = offset_count, \n",
    "                                      limit = size) \n",
    "            \n",
    "        # Posts ligados a business\n",
    "        resultados.extend(posts['businesses'])\n",
    "        \n",
    "        # Incrementa o número de loops\n",
    "        loops += size\n",
    "        \n",
    "        # Incrementa o offset\n",
    "        offset_count += 50\n",
    "        \n",
    "        # Aguarda 3 segundos para executar a próxima consulta\n",
    "        time.sleep(3) \n",
    "        \n",
    "        # Incrementa o número de execuções\n",
    "        run += 1\n",
    "       \n",
    "    # Finalizado o loop, vamos retornar o nome do arquivo formatado e a descrição\n",
    "    formatted_name, file_description = formata_arquivo(file_path =f'./dados/arquivo_{category}.json')\n",
    "    \n",
    "    # Abrimos o arquivo formatado e fazemos o dump (gravação) dos resultados da consulta em formato JSON\n",
    "    with open(formatted_name, 'w+') as f:\n",
    "        json.dump(resultados, f)\n",
    "    \n",
    "    print(f'\\nConsulta concluída. Encontramos esse número de lojas: {len(resultados)} {category}s.')\n",
    "    \n",
    "    return print(f'\\nEsse foi o último timestamp {round(time.time())}.')"
   ]
  },
  {
   "cell_type": "code",
   "execution_count": 11,
   "metadata": {},
   "outputs": [
    {
     "name": "stdout",
     "output_type": "stream",
     "text": [
      "Iniciando consulta 1\n",
      "Iniciando consulta 2\n",
      "Iniciando consulta 3\n",
      "Iniciando consulta 4\n",
      "Iniciando consulta 5\n",
      "Iniciando consulta 6\n",
      "Iniciando consulta 7\n",
      "Iniciando consulta 8\n",
      "Iniciando consulta 9\n",
      "Iniciando consulta 10\n",
      "Iniciando consulta 11\n",
      "Iniciando consulta 12\n",
      "Iniciando consulta 13\n",
      "Iniciando consulta 14\n",
      "Iniciando consulta 15\n",
      "Iniciando consulta 16\n",
      "Iniciando consulta 17\n",
      "Iniciando consulta 18\n",
      "Iniciando consulta 19\n",
      "Iniciando consulta 20\n",
      "\n",
      "Consulta concluída. Encontramos esse número de lojas: 326 cannabisdispensariess.\n",
      "\n",
      "Esse foi o último timestamp 1610492792.\n"
     ]
    }
   ],
   "source": [
    "# We perform the search with the type of establishment and the city\n",
    "busca_yelp(\"cannabisdispensaries\",'los angeles', n_samples = 1000)"
   ]
  },
  {
   "cell_type": "markdown",
   "metadata": {},
   "source": [
    "Observe na última linha acima o número do timestamp. Esse código representa o momento exato (hora, minuto, segundo) que o arquivo foi gerado. Pegamos o código e incluímos como prefixo no nome do arquivo na célula abaixo.\n",
    "\n",
    "Isso tem que ser feito cada vez que executar este Jupyter Notebook. Mas é claro que você pode automatizar isso de outra forma, se desejar."
   ]
  },
  {
   "cell_type": "code",
   "execution_count": 12,
   "metadata": {},
   "outputs": [],
   "source": [
    "# Opens the JSON file for reading and generating the final list\n",
    "with open(f'dados/1610492792_arquivo_cannabisdispensaries.json', 'r') as f:\n",
    "    lista_lojas_la = json.load(f)"
   ]
  },
  {
   "cell_type": "code",
   "execution_count": 13,
   "metadata": {},
   "outputs": [
    {
     "data": {
      "text/plain": [
       "{'id': 'qCrSlf_TSVxITOYIBXGdJQ',\n",
       " 'alias': 'cannabis-cafe-west-hollywood',\n",
       " 'name': 'Cannabis Cafe',\n",
       " 'image_url': 'https://s3-media2.fl.yelpcdn.com/bphoto/CaA-BUOLFHxtnS7H3rs4wA/o.jpg',\n",
       " 'is_closed': False,\n",
       " 'url': 'https://www.yelp.com/biz/cannabis-cafe-west-hollywood?adjust_creative=ZWy0ubD0XpxR_wgB9r9oJA&utm_campaign=yelp_api_v3&utm_medium=api_v3_business_search&utm_source=ZWy0ubD0XpxR_wgB9r9oJA',\n",
       " 'review_count': 677,\n",
       " 'categories': [{'alias': 'cannabisdispensaries',\n",
       "   'title': 'Cannabis Dispensaries'},\n",
       "  {'alias': 'cafes', 'title': 'Cafes'}],\n",
       " 'rating': 3.5,\n",
       " 'coordinates': {'latitude': 34.092688, 'longitude': -118.344421},\n",
       " 'transactions': ['delivery'],\n",
       " 'location': {'address1': '1201 N La Brea Ave',\n",
       "  'address2': '',\n",
       "  'address3': None,\n",
       "  'city': 'West Hollywood',\n",
       "  'zip_code': '90038',\n",
       "  'country': 'US',\n",
       "  'state': 'CA',\n",
       "  'display_address': ['1201 N La Brea Ave', 'West Hollywood, CA 90038']},\n",
       " 'phone': '+13239757676',\n",
       " 'display_phone': '(323) 975-7676',\n",
       " 'distance': 4057.181712948765}"
      ]
     },
     "execution_count": 13,
     "metadata": {},
     "output_type": "execute_result"
    }
   ],
   "source": [
    "# Let's view a record of the list\n",
    "lista_lojas_la[5]"
   ]
  },
  {
   "cell_type": "markdown",
   "metadata": {},
   "source": [
    "Dados extraídos com sucesso! Vamos organizar e limpar esses dados."
   ]
  },
  {
   "cell_type": "code",
   "execution_count": 19,
   "metadata": {},
   "outputs": [],
   "source": [
    "# The function will organize the store list data on a pandas dataframe\n",
    "def organiza_dados(lista_lojas, df):\n",
    "    \n",
    "    # Conert the list of store to a panda dataframe\n",
    "    df = pd.DataFrame(lista_lojas)\n",
    "    \n",
    "    # List with column names that interest us \n",
    "    col_list = ['name',\n",
    "                'is_closed',\n",
    "                'url',\n",
    "                'rating',\n",
    "                'coordinates',\n",
    "                'location',\n",
    "                'price',\n",
    "                'review_count']\n",
    "    \n",
    "    # Difines the list of columns above as the name of each column\n",
    "    df = df[col_list]\n",
    "    \n",
    "    return df\n",
    "    "
   ]
  },
  {
   "cell_type": "code",
   "execution_count": 20,
   "metadata": {},
   "outputs": [],
   "source": [
    "# Apply the function and create our dataframe\n",
    "df_lojas = organiza_dados(lista_lojas_la, df = 'df_lojas')"
   ]
  },
  {
   "cell_type": "code",
   "execution_count": 21,
   "metadata": {},
   "outputs": [
    {
     "data": {
      "text/plain": [
       "(326, 8)"
      ]
     },
     "execution_count": 21,
     "metadata": {},
     "output_type": "execute_result"
    }
   ],
   "source": [
    "# Shape \n",
    "df_lojas.shape"
   ]
  },
  {
   "cell_type": "code",
   "execution_count": 22,
   "metadata": {},
   "outputs": [
    {
     "data": {
      "text/html": [
       "<div>\n",
       "<style scoped>\n",
       "    .dataframe tbody tr th:only-of-type {\n",
       "        vertical-align: middle;\n",
       "    }\n",
       "\n",
       "    .dataframe tbody tr th {\n",
       "        vertical-align: top;\n",
       "    }\n",
       "\n",
       "    .dataframe thead th {\n",
       "        text-align: right;\n",
       "    }\n",
       "</style>\n",
       "<table border=\"1\" class=\"dataframe\">\n",
       "  <thead>\n",
       "    <tr style=\"text-align: right;\">\n",
       "      <th></th>\n",
       "      <th>name</th>\n",
       "      <th>is_closed</th>\n",
       "      <th>url</th>\n",
       "      <th>rating</th>\n",
       "      <th>coordinates</th>\n",
       "      <th>location</th>\n",
       "      <th>price</th>\n",
       "      <th>review_count</th>\n",
       "    </tr>\n",
       "  </thead>\n",
       "  <tbody>\n",
       "    <tr>\n",
       "      <th>0</th>\n",
       "      <td>California Caregivers Alliance</td>\n",
       "      <td>False</td>\n",
       "      <td>https://www.yelp.com/biz/california-caregivers...</td>\n",
       "      <td>4.5</td>\n",
       "      <td>{'latitude': 34.08235, 'longitude': -118.272037}</td>\n",
       "      <td>{'address1': '2815 W Sunset Blvd', 'address2':...</td>\n",
       "      <td>NaN</td>\n",
       "      <td>299</td>\n",
       "    </tr>\n",
       "    <tr>\n",
       "      <th>1</th>\n",
       "      <td>Herbarium</td>\n",
       "      <td>False</td>\n",
       "      <td>https://www.yelp.com/biz/herbarium-west-hollyw...</td>\n",
       "      <td>4.5</td>\n",
       "      <td>{'latitude': 34.08853, 'longitude': -118.3446}</td>\n",
       "      <td>{'address1': '979 N La Brea Ave', 'address2': ...</td>\n",
       "      <td>$$</td>\n",
       "      <td>289</td>\n",
       "    </tr>\n",
       "    <tr>\n",
       "      <th>2</th>\n",
       "      <td>MedMen Los Angeles - DTLA</td>\n",
       "      <td>False</td>\n",
       "      <td>https://www.yelp.com/biz/medmen-los-angeles-dt...</td>\n",
       "      <td>4.0</td>\n",
       "      <td>{'latitude': 34.0446, 'longitude': -118.25444}</td>\n",
       "      <td>{'address1': '735 S Broadway', 'address2': '',...</td>\n",
       "      <td>$$</td>\n",
       "      <td>344</td>\n",
       "    </tr>\n",
       "    <tr>\n",
       "      <th>3</th>\n",
       "      <td>HERB</td>\n",
       "      <td>False</td>\n",
       "      <td>https://www.yelp.com/biz/herb-los-angeles-3?ad...</td>\n",
       "      <td>4.5</td>\n",
       "      <td>{'latitude': 34.0434989929199, 'longitude': -1...</td>\n",
       "      <td>{'address1': '', 'address2': None, 'address3':...</td>\n",
       "      <td>$$</td>\n",
       "      <td>118</td>\n",
       "    </tr>\n",
       "    <tr>\n",
       "      <th>4</th>\n",
       "      <td>Extra Special Delivery</td>\n",
       "      <td>False</td>\n",
       "      <td>https://www.yelp.com/biz/extra-special-deliver...</td>\n",
       "      <td>4.5</td>\n",
       "      <td>{'latitude': 34.167, 'longitude': -118.37364}</td>\n",
       "      <td>{'address1': '', 'address2': None, 'address3':...</td>\n",
       "      <td>$</td>\n",
       "      <td>130</td>\n",
       "    </tr>\n",
       "  </tbody>\n",
       "</table>\n",
       "</div>"
      ],
      "text/plain": [
       "                             name  is_closed  \\\n",
       "0  California Caregivers Alliance      False   \n",
       "1                       Herbarium      False   \n",
       "2       MedMen Los Angeles - DTLA      False   \n",
       "3                            HERB      False   \n",
       "4          Extra Special Delivery      False   \n",
       "\n",
       "                                                 url  rating  \\\n",
       "0  https://www.yelp.com/biz/california-caregivers...     4.5   \n",
       "1  https://www.yelp.com/biz/herbarium-west-hollyw...     4.5   \n",
       "2  https://www.yelp.com/biz/medmen-los-angeles-dt...     4.0   \n",
       "3  https://www.yelp.com/biz/herb-los-angeles-3?ad...     4.5   \n",
       "4  https://www.yelp.com/biz/extra-special-deliver...     4.5   \n",
       "\n",
       "                                         coordinates  \\\n",
       "0   {'latitude': 34.08235, 'longitude': -118.272037}   \n",
       "1     {'latitude': 34.08853, 'longitude': -118.3446}   \n",
       "2     {'latitude': 34.0446, 'longitude': -118.25444}   \n",
       "3  {'latitude': 34.0434989929199, 'longitude': -1...   \n",
       "4      {'latitude': 34.167, 'longitude': -118.37364}   \n",
       "\n",
       "                                            location price  review_count  \n",
       "0  {'address1': '2815 W Sunset Blvd', 'address2':...   NaN           299  \n",
       "1  {'address1': '979 N La Brea Ave', 'address2': ...    $$           289  \n",
       "2  {'address1': '735 S Broadway', 'address2': '',...    $$           344  \n",
       "3  {'address1': '', 'address2': None, 'address3':...    $$           118  \n",
       "4  {'address1': '', 'address2': None, 'address3':...     $           130  "
      ]
     },
     "execution_count": 22,
     "metadata": {},
     "output_type": "execute_result"
    }
   ],
   "source": [
    "# We preview a sample of data\n",
    "df_lojas.head()"
   ]
  },
  {
   "cell_type": "markdown",
   "metadata": {},
   "source": [
    "Vamos extrair a lista de latitudes e longitudes de cada loja, pois usaremos geolocalização mais tarde."
   ]
  },
  {
   "cell_type": "code",
   "execution_count": 23,
   "metadata": {},
   "outputs": [],
   "source": [
    "# Extract the list of latitudes and longitudes\n",
    "lista_latitude = [lista_lojas_la[i]['coordinates']['latitude'] for i in range(len(lista_lojas_la))]\n",
    "lista_longitude = [lista_lojas_la[i]['coordinates']['longitude'] for i in range(len(lista_lojas_la))]"
   ]
  },
  {
   "cell_type": "markdown",
   "metadata": {},
   "source": [
    "E adicionamos em nosso dataframe."
   ]
  },
  {
   "cell_type": "code",
   "execution_count": 24,
   "metadata": {},
   "outputs": [],
   "source": [
    "df_lojas['latitude'] = lista_latitude\n",
    "df_lojas['longitude'] = lista_longitude"
   ]
  },
  {
   "cell_type": "code",
   "execution_count": 25,
   "metadata": {},
   "outputs": [
    {
     "data": {
      "text/html": [
       "<div>\n",
       "<style scoped>\n",
       "    .dataframe tbody tr th:only-of-type {\n",
       "        vertical-align: middle;\n",
       "    }\n",
       "\n",
       "    .dataframe tbody tr th {\n",
       "        vertical-align: top;\n",
       "    }\n",
       "\n",
       "    .dataframe thead th {\n",
       "        text-align: right;\n",
       "    }\n",
       "</style>\n",
       "<table border=\"1\" class=\"dataframe\">\n",
       "  <thead>\n",
       "    <tr style=\"text-align: right;\">\n",
       "      <th></th>\n",
       "      <th>name</th>\n",
       "      <th>is_closed</th>\n",
       "      <th>url</th>\n",
       "      <th>rating</th>\n",
       "      <th>coordinates</th>\n",
       "      <th>location</th>\n",
       "      <th>price</th>\n",
       "      <th>review_count</th>\n",
       "      <th>latitude</th>\n",
       "      <th>longitude</th>\n",
       "    </tr>\n",
       "  </thead>\n",
       "  <tbody>\n",
       "    <tr>\n",
       "      <th>0</th>\n",
       "      <td>California Caregivers Alliance</td>\n",
       "      <td>False</td>\n",
       "      <td>https://www.yelp.com/biz/california-caregivers...</td>\n",
       "      <td>4.5</td>\n",
       "      <td>{'latitude': 34.08235, 'longitude': -118.272037}</td>\n",
       "      <td>{'address1': '2815 W Sunset Blvd', 'address2':...</td>\n",
       "      <td>NaN</td>\n",
       "      <td>299</td>\n",
       "      <td>34.082350</td>\n",
       "      <td>-118.272037</td>\n",
       "    </tr>\n",
       "    <tr>\n",
       "      <th>1</th>\n",
       "      <td>Herbarium</td>\n",
       "      <td>False</td>\n",
       "      <td>https://www.yelp.com/biz/herbarium-west-hollyw...</td>\n",
       "      <td>4.5</td>\n",
       "      <td>{'latitude': 34.08853, 'longitude': -118.3446}</td>\n",
       "      <td>{'address1': '979 N La Brea Ave', 'address2': ...</td>\n",
       "      <td>$$</td>\n",
       "      <td>289</td>\n",
       "      <td>34.088530</td>\n",
       "      <td>-118.344600</td>\n",
       "    </tr>\n",
       "    <tr>\n",
       "      <th>2</th>\n",
       "      <td>MedMen Los Angeles - DTLA</td>\n",
       "      <td>False</td>\n",
       "      <td>https://www.yelp.com/biz/medmen-los-angeles-dt...</td>\n",
       "      <td>4.0</td>\n",
       "      <td>{'latitude': 34.0446, 'longitude': -118.25444}</td>\n",
       "      <td>{'address1': '735 S Broadway', 'address2': '',...</td>\n",
       "      <td>$$</td>\n",
       "      <td>344</td>\n",
       "      <td>34.044600</td>\n",
       "      <td>-118.254440</td>\n",
       "    </tr>\n",
       "    <tr>\n",
       "      <th>3</th>\n",
       "      <td>HERB</td>\n",
       "      <td>False</td>\n",
       "      <td>https://www.yelp.com/biz/herb-los-angeles-3?ad...</td>\n",
       "      <td>4.5</td>\n",
       "      <td>{'latitude': 34.0434989929199, 'longitude': -1...</td>\n",
       "      <td>{'address1': '', 'address2': None, 'address3':...</td>\n",
       "      <td>$$</td>\n",
       "      <td>118</td>\n",
       "      <td>34.043499</td>\n",
       "      <td>-118.250206</td>\n",
       "    </tr>\n",
       "    <tr>\n",
       "      <th>4</th>\n",
       "      <td>Extra Special Delivery</td>\n",
       "      <td>False</td>\n",
       "      <td>https://www.yelp.com/biz/extra-special-deliver...</td>\n",
       "      <td>4.5</td>\n",
       "      <td>{'latitude': 34.167, 'longitude': -118.37364}</td>\n",
       "      <td>{'address1': '', 'address2': None, 'address3':...</td>\n",
       "      <td>$</td>\n",
       "      <td>130</td>\n",
       "      <td>34.167000</td>\n",
       "      <td>-118.373640</td>\n",
       "    </tr>\n",
       "  </tbody>\n",
       "</table>\n",
       "</div>"
      ],
      "text/plain": [
       "                             name  is_closed  \\\n",
       "0  California Caregivers Alliance      False   \n",
       "1                       Herbarium      False   \n",
       "2       MedMen Los Angeles - DTLA      False   \n",
       "3                            HERB      False   \n",
       "4          Extra Special Delivery      False   \n",
       "\n",
       "                                                 url  rating  \\\n",
       "0  https://www.yelp.com/biz/california-caregivers...     4.5   \n",
       "1  https://www.yelp.com/biz/herbarium-west-hollyw...     4.5   \n",
       "2  https://www.yelp.com/biz/medmen-los-angeles-dt...     4.0   \n",
       "3  https://www.yelp.com/biz/herb-los-angeles-3?ad...     4.5   \n",
       "4  https://www.yelp.com/biz/extra-special-deliver...     4.5   \n",
       "\n",
       "                                         coordinates  \\\n",
       "0   {'latitude': 34.08235, 'longitude': -118.272037}   \n",
       "1     {'latitude': 34.08853, 'longitude': -118.3446}   \n",
       "2     {'latitude': 34.0446, 'longitude': -118.25444}   \n",
       "3  {'latitude': 34.0434989929199, 'longitude': -1...   \n",
       "4      {'latitude': 34.167, 'longitude': -118.37364}   \n",
       "\n",
       "                                            location price  review_count  \\\n",
       "0  {'address1': '2815 W Sunset Blvd', 'address2':...   NaN           299   \n",
       "1  {'address1': '979 N La Brea Ave', 'address2': ...    $$           289   \n",
       "2  {'address1': '735 S Broadway', 'address2': '',...    $$           344   \n",
       "3  {'address1': '', 'address2': None, 'address3':...    $$           118   \n",
       "4  {'address1': '', 'address2': None, 'address3':...     $           130   \n",
       "\n",
       "    latitude   longitude  \n",
       "0  34.082350 -118.272037  \n",
       "1  34.088530 -118.344600  \n",
       "2  34.044600 -118.254440  \n",
       "3  34.043499 -118.250206  \n",
       "4  34.167000 -118.373640  "
      ]
     },
     "execution_count": 25,
     "metadata": {},
     "output_type": "execute_result"
    }
   ],
   "source": [
    "# We preview a sample of data\n",
    "df_lojas.head()"
   ]
  },
  {
   "cell_type": "code",
   "execution_count": 28,
   "metadata": {},
   "outputs": [],
   "source": [
    "# With latitude and longitude, the location column with the full address is no longer needed and we remove it from the dataframe\n",
    "df_lojas.drop('location', axis = 1, inplace = True)"
   ]
  },
  {
   "cell_type": "code",
   "execution_count": 29,
   "metadata": {},
   "outputs": [],
   "source": [
    "# And then we create new location column containing a tuple with and longitude\n",
    "df_lojas['location'] = list(zip(df_lojas['latitude'], df_lojas['longitude']))"
   ]
  },
  {
   "cell_type": "code",
   "execution_count": 30,
   "metadata": {},
   "outputs": [
    {
     "data": {
      "text/html": [
       "<div>\n",
       "<style scoped>\n",
       "    .dataframe tbody tr th:only-of-type {\n",
       "        vertical-align: middle;\n",
       "    }\n",
       "\n",
       "    .dataframe tbody tr th {\n",
       "        vertical-align: top;\n",
       "    }\n",
       "\n",
       "    .dataframe thead th {\n",
       "        text-align: right;\n",
       "    }\n",
       "</style>\n",
       "<table border=\"1\" class=\"dataframe\">\n",
       "  <thead>\n",
       "    <tr style=\"text-align: right;\">\n",
       "      <th></th>\n",
       "      <th>name</th>\n",
       "      <th>is_closed</th>\n",
       "      <th>url</th>\n",
       "      <th>rating</th>\n",
       "      <th>coordinates</th>\n",
       "      <th>price</th>\n",
       "      <th>review_count</th>\n",
       "      <th>latitude</th>\n",
       "      <th>longitude</th>\n",
       "      <th>location</th>\n",
       "    </tr>\n",
       "  </thead>\n",
       "  <tbody>\n",
       "    <tr>\n",
       "      <th>0</th>\n",
       "      <td>California Caregivers Alliance</td>\n",
       "      <td>False</td>\n",
       "      <td>https://www.yelp.com/biz/california-caregivers...</td>\n",
       "      <td>4.5</td>\n",
       "      <td>{'latitude': 34.08235, 'longitude': -118.272037}</td>\n",
       "      <td>NaN</td>\n",
       "      <td>299</td>\n",
       "      <td>34.082350</td>\n",
       "      <td>-118.272037</td>\n",
       "      <td>(34.08235, -118.272037)</td>\n",
       "    </tr>\n",
       "    <tr>\n",
       "      <th>1</th>\n",
       "      <td>Herbarium</td>\n",
       "      <td>False</td>\n",
       "      <td>https://www.yelp.com/biz/herbarium-west-hollyw...</td>\n",
       "      <td>4.5</td>\n",
       "      <td>{'latitude': 34.08853, 'longitude': -118.3446}</td>\n",
       "      <td>$$</td>\n",
       "      <td>289</td>\n",
       "      <td>34.088530</td>\n",
       "      <td>-118.344600</td>\n",
       "      <td>(34.08853, -118.3446)</td>\n",
       "    </tr>\n",
       "    <tr>\n",
       "      <th>2</th>\n",
       "      <td>MedMen Los Angeles - DTLA</td>\n",
       "      <td>False</td>\n",
       "      <td>https://www.yelp.com/biz/medmen-los-angeles-dt...</td>\n",
       "      <td>4.0</td>\n",
       "      <td>{'latitude': 34.0446, 'longitude': -118.25444}</td>\n",
       "      <td>$$</td>\n",
       "      <td>344</td>\n",
       "      <td>34.044600</td>\n",
       "      <td>-118.254440</td>\n",
       "      <td>(34.0446, -118.25444)</td>\n",
       "    </tr>\n",
       "    <tr>\n",
       "      <th>3</th>\n",
       "      <td>HERB</td>\n",
       "      <td>False</td>\n",
       "      <td>https://www.yelp.com/biz/herb-los-angeles-3?ad...</td>\n",
       "      <td>4.5</td>\n",
       "      <td>{'latitude': 34.0434989929199, 'longitude': -1...</td>\n",
       "      <td>$$</td>\n",
       "      <td>118</td>\n",
       "      <td>34.043499</td>\n",
       "      <td>-118.250206</td>\n",
       "      <td>(34.0434989929199, -118.250205993652)</td>\n",
       "    </tr>\n",
       "    <tr>\n",
       "      <th>4</th>\n",
       "      <td>Extra Special Delivery</td>\n",
       "      <td>False</td>\n",
       "      <td>https://www.yelp.com/biz/extra-special-deliver...</td>\n",
       "      <td>4.5</td>\n",
       "      <td>{'latitude': 34.167, 'longitude': -118.37364}</td>\n",
       "      <td>$</td>\n",
       "      <td>130</td>\n",
       "      <td>34.167000</td>\n",
       "      <td>-118.373640</td>\n",
       "      <td>(34.167, -118.37364)</td>\n",
       "    </tr>\n",
       "  </tbody>\n",
       "</table>\n",
       "</div>"
      ],
      "text/plain": [
       "                             name  is_closed  \\\n",
       "0  California Caregivers Alliance      False   \n",
       "1                       Herbarium      False   \n",
       "2       MedMen Los Angeles - DTLA      False   \n",
       "3                            HERB      False   \n",
       "4          Extra Special Delivery      False   \n",
       "\n",
       "                                                 url  rating  \\\n",
       "0  https://www.yelp.com/biz/california-caregivers...     4.5   \n",
       "1  https://www.yelp.com/biz/herbarium-west-hollyw...     4.5   \n",
       "2  https://www.yelp.com/biz/medmen-los-angeles-dt...     4.0   \n",
       "3  https://www.yelp.com/biz/herb-los-angeles-3?ad...     4.5   \n",
       "4  https://www.yelp.com/biz/extra-special-deliver...     4.5   \n",
       "\n",
       "                                         coordinates price  review_count  \\\n",
       "0   {'latitude': 34.08235, 'longitude': -118.272037}   NaN           299   \n",
       "1     {'latitude': 34.08853, 'longitude': -118.3446}    $$           289   \n",
       "2     {'latitude': 34.0446, 'longitude': -118.25444}    $$           344   \n",
       "3  {'latitude': 34.0434989929199, 'longitude': -1...    $$           118   \n",
       "4      {'latitude': 34.167, 'longitude': -118.37364}     $           130   \n",
       "\n",
       "    latitude   longitude                               location  \n",
       "0  34.082350 -118.272037                (34.08235, -118.272037)  \n",
       "1  34.088530 -118.344600                  (34.08853, -118.3446)  \n",
       "2  34.044600 -118.254440                  (34.0446, -118.25444)  \n",
       "3  34.043499 -118.250206  (34.0434989929199, -118.250205993652)  \n",
       "4  34.167000 -118.373640                   (34.167, -118.37364)  "
      ]
     },
     "execution_count": 30,
     "metadata": {},
     "output_type": "execute_result"
    }
   ],
   "source": [
    "# We preview a sample of data\n",
    "df_lojas.head()"
   ]
  },
  {
   "cell_type": "code",
   "execution_count": null,
   "metadata": {},
   "outputs": [],
   "source": [
    "df_lojas.drop('coordinates', axis = 1, inplace = True)"
   ]
  },
  {
   "cell_type": "code",
   "execution_count": 38,
   "metadata": {},
   "outputs": [
    {
     "data": {
      "text/plain": [
       "(326, 9)"
      ]
     },
     "execution_count": 38,
     "metadata": {},
     "output_type": "execute_result"
    }
   ],
   "source": [
    "df_lojas.shape"
   ]
  },
  {
   "cell_type": "code",
   "execution_count": 37,
   "metadata": {},
   "outputs": [
    {
     "data": {
      "text/html": [
       "<div>\n",
       "<style scoped>\n",
       "    .dataframe tbody tr th:only-of-type {\n",
       "        vertical-align: middle;\n",
       "    }\n",
       "\n",
       "    .dataframe tbody tr th {\n",
       "        vertical-align: top;\n",
       "    }\n",
       "\n",
       "    .dataframe thead th {\n",
       "        text-align: right;\n",
       "    }\n",
       "</style>\n",
       "<table border=\"1\" class=\"dataframe\">\n",
       "  <thead>\n",
       "    <tr style=\"text-align: right;\">\n",
       "      <th></th>\n",
       "      <th>name</th>\n",
       "      <th>is_closed</th>\n",
       "      <th>url</th>\n",
       "      <th>rating</th>\n",
       "      <th>price</th>\n",
       "      <th>review_count</th>\n",
       "      <th>latitude</th>\n",
       "      <th>longitude</th>\n",
       "      <th>location</th>\n",
       "    </tr>\n",
       "  </thead>\n",
       "  <tbody>\n",
       "    <tr>\n",
       "      <th>0</th>\n",
       "      <td>California Caregivers Alliance</td>\n",
       "      <td>False</td>\n",
       "      <td>https://www.yelp.com/biz/california-caregivers...</td>\n",
       "      <td>4.5</td>\n",
       "      <td>NaN</td>\n",
       "      <td>299</td>\n",
       "      <td>34.082350</td>\n",
       "      <td>-118.272037</td>\n",
       "      <td>(34.08235, -118.272037)</td>\n",
       "    </tr>\n",
       "    <tr>\n",
       "      <th>1</th>\n",
       "      <td>Herbarium</td>\n",
       "      <td>False</td>\n",
       "      <td>https://www.yelp.com/biz/herbarium-west-hollyw...</td>\n",
       "      <td>4.5</td>\n",
       "      <td>$$</td>\n",
       "      <td>289</td>\n",
       "      <td>34.088530</td>\n",
       "      <td>-118.344600</td>\n",
       "      <td>(34.08853, -118.3446)</td>\n",
       "    </tr>\n",
       "    <tr>\n",
       "      <th>2</th>\n",
       "      <td>MedMen Los Angeles - DTLA</td>\n",
       "      <td>False</td>\n",
       "      <td>https://www.yelp.com/biz/medmen-los-angeles-dt...</td>\n",
       "      <td>4.0</td>\n",
       "      <td>$$</td>\n",
       "      <td>344</td>\n",
       "      <td>34.044600</td>\n",
       "      <td>-118.254440</td>\n",
       "      <td>(34.0446, -118.25444)</td>\n",
       "    </tr>\n",
       "    <tr>\n",
       "      <th>3</th>\n",
       "      <td>HERB</td>\n",
       "      <td>False</td>\n",
       "      <td>https://www.yelp.com/biz/herb-los-angeles-3?ad...</td>\n",
       "      <td>4.5</td>\n",
       "      <td>$$</td>\n",
       "      <td>118</td>\n",
       "      <td>34.043499</td>\n",
       "      <td>-118.250206</td>\n",
       "      <td>(34.0434989929199, -118.250205993652)</td>\n",
       "    </tr>\n",
       "    <tr>\n",
       "      <th>4</th>\n",
       "      <td>Extra Special Delivery</td>\n",
       "      <td>False</td>\n",
       "      <td>https://www.yelp.com/biz/extra-special-deliver...</td>\n",
       "      <td>4.5</td>\n",
       "      <td>$</td>\n",
       "      <td>130</td>\n",
       "      <td>34.167000</td>\n",
       "      <td>-118.373640</td>\n",
       "      <td>(34.167, -118.37364)</td>\n",
       "    </tr>\n",
       "  </tbody>\n",
       "</table>\n",
       "</div>"
      ],
      "text/plain": [
       "                             name  is_closed  \\\n",
       "0  California Caregivers Alliance      False   \n",
       "1                       Herbarium      False   \n",
       "2       MedMen Los Angeles - DTLA      False   \n",
       "3                            HERB      False   \n",
       "4          Extra Special Delivery      False   \n",
       "\n",
       "                                                 url  rating price  \\\n",
       "0  https://www.yelp.com/biz/california-caregivers...     4.5   NaN   \n",
       "1  https://www.yelp.com/biz/herbarium-west-hollyw...     4.5    $$   \n",
       "2  https://www.yelp.com/biz/medmen-los-angeles-dt...     4.0    $$   \n",
       "3  https://www.yelp.com/biz/herb-los-angeles-3?ad...     4.5    $$   \n",
       "4  https://www.yelp.com/biz/extra-special-deliver...     4.5     $   \n",
       "\n",
       "   review_count   latitude   longitude                               location  \n",
       "0           299  34.082350 -118.272037                (34.08235, -118.272037)  \n",
       "1           289  34.088530 -118.344600                  (34.08853, -118.3446)  \n",
       "2           344  34.044600 -118.254440                  (34.0446, -118.25444)  \n",
       "3           118  34.043499 -118.250206  (34.0434989929199, -118.250205993652)  \n",
       "4           130  34.167000 -118.373640                   (34.167, -118.37364)  "
      ]
     },
     "execution_count": 37,
     "metadata": {},
     "output_type": "execute_result"
    }
   ],
   "source": [
    "# We preview a sample of data\n",
    "df_lojas.head()"
   ]
  },
  {
   "cell_type": "markdown",
   "metadata": {},
   "source": [
    "Por hora nosso primeiro dataset está concluído. Vamos salvá-lo em disco."
   ]
  },
  {
   "cell_type": "code",
   "execution_count": null,
   "metadata": {},
   "outputs": [],
   "source": [
    "# Save the stores dataframe to a csv file\n",
    "df_lojas.to_csv('dados/df_lojas.csv')"
   ]
  },
  {
   "cell_type": "markdown",
   "metadata": {},
   "source": [
    "<a href=\"https://github.com/rodolffoterra/Projct_Marijuana_Legalization_TS/blob/main/Projct_Marijuana_Legalization_TS_Part2.ipynb\">Continuação do Projeto: Parte. 2</a>"
   ]
  },
  {
   "cell_type": "markdown",
   "metadata": {},
   "source": [
    "![Rodolfo Terra](https://raw.githubusercontent.com/rodolffoterra/Projct_Marijuana_Legalization_TS/main/imagnes/logo.png)"
   ]
  }
 ],
 "metadata": {
  "kernelspec": {
   "display_name": "Python 3",
   "language": "python",
   "name": "python3"
  },
  "language_info": {
   "codemirror_mode": {
    "name": "ipython",
    "version": 3
   },
   "file_extension": ".py",
   "mimetype": "text/x-python",
   "name": "python",
   "nbconvert_exporter": "python",
   "pygments_lexer": "ipython3",
   "version": "3.8.5"
  }
 },
 "nbformat": 4,
 "nbformat_minor": 4
}
